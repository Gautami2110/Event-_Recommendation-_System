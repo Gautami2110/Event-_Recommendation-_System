{
  "nbformat": 4,
  "nbformat_minor": 0,
  "metadata": {
    "gist": {
      "data": {
        "description": "PythonProjects/Cloud Counselage/GOD.ipynb",
        "public": false
      },
      "id": ""
    },
    "kernelspec": {
      "display_name": "Python 3",
      "language": "python",
      "name": "python3"
    },
    "language_info": {
      "codemirror_mode": {
        "name": "ipython",
        "version": 3
      },
      "file_extension": ".py",
      "mimetype": "text/x-python",
      "name": "python",
      "nbconvert_exporter": "python",
      "pygments_lexer": "ipython3",
      "version": "3.6.5"
    },
    "colab": {
      "name": "Event_NLP.ipynb",
      "provenance": [],
      "toc_visible": true
    }
  },
  "cells": [
    {
      "cell_type": "code",
      "metadata": {
        "run_control": {
          "marked": false
        },
        "id": "ouL0pOQ01u-n",
        "colab_type": "code",
        "colab": {}
      },
      "source": [
        "import pandas as pd\n",
        "import openpyxl\n",
        "from pandas import DataFrame\n",
        "from sklearn import tree\n",
        "import pickle\n",
        "import json"
      ],
      "execution_count": 12,
      "outputs": []
    },
    {
      "cell_type": "code",
      "metadata": {
        "run_control": {
          "marked": false
        },
        "id": "6smheTbC1u-t",
        "colab_type": "code",
        "colab": {}
      },
      "source": [
        "scoreone=0\n",
        "scoretwo=0\n",
        "name_list=[]\n",
        "temp_name_list=[]"
      ],
      "execution_count": 13,
      "outputs": []
    },
    {
      "cell_type": "code",
      "metadata": {
        "run_control": {
          "marked": false
        },
        "id": "gVeakziK1u-y",
        "colab_type": "code",
        "colab": {}
      },
      "source": [
        "df = pd.read_csv('CCMLEmployeeData.csv')"
      ],
      "execution_count": 14,
      "outputs": []
    },
    {
      "cell_type": "code",
      "metadata": {
        "run_control": {
          "marked": false
        },
        "id": "6xkmvo_31u-2",
        "colab_type": "code",
        "colab": {}
      },
      "source": [
        "DU = df.Domain.unique()\n",
        "DN=[]\n",
        "[DN.append(x) for x in range(1,len(DU)+1)]    \n",
        "\n",
        "EU = df.Event1.unique()\n",
        "EN=[]\n",
        "[EN.append(x) for x in range(1,len(EU)+1)]\n",
        "    \n",
        "    \n",
        "pUQ = df.Name.unique()\n",
        "pNO=[]\n",
        "[pNO.append(x) for x in range(1,len(pUQ)+1)]\n",
        "               \n",
        "df['Event1'].replace(EU,EN,inplace=True)\n",
        "df['Event2'].replace(EU,EN,inplace=True)\n",
        "df['Domain'].replace(DU,DN,inplace=True)\n",
        "df['Name'].replace(pUQ,pNO,inplace=True)\n",
        "    \n",
        "tmp_df=df.copy()"
      ],
      "execution_count": 15,
      "outputs": []
    },
    {
      "cell_type": "code",
      "metadata": {
        "id": "4yXAAGhh1u-6",
        "colab_type": "code",
        "colab": {}
      },
      "source": [
        "inst = open(\"Extract_Domain.pkl\",\"rb\")\n",
        "Domain_extract = pickle.load(inst)\n",
        "inst2 = open(\"Extract_Event.pkl\",\"rb\")\n",
        "Event_extract = pickle.load(inst2)"
      ],
      "execution_count": 16,
      "outputs": []
    },
    {
      "cell_type": "code",
      "metadata": {
        "run_control": {
          "marked": false
        },
        "id": "3Y4FceAk1u_A",
        "colab_type": "code",
        "colab": {
          "base_uri": "https://localhost:8080/",
          "height": 134
        },
        "outputId": "05b687f1-2ef3-4b1e-ae41-715a4cdfff95"
      },
      "source": [
        "c=0\n",
        "event_list=[]\n",
        "\n",
        "while(c==0):\n",
        "    try:\n",
        "        event_no = int(input('Enter number of events: '))\n",
        "        c=1\n",
        "    except:\n",
        "        print('ENTER A NUMBER!')\n",
        "        \n",
        "for x in range(1,event_no+1):\n",
        "    event = (input(f'Enter Event No.{x} name: ')).upper()\n",
        "    event_list.append(event)\n",
        "    print(f'>>>{event}')"
      ],
      "execution_count": 17,
      "outputs": [
        {
          "output_type": "stream",
          "text": [
            "Enter number of events: 3\n",
            "Enter Event No.1 name: Lockdown special courses on Ydemi. 22 hours left!\n",
            ">>>LOCKDOWN SPECIAL COURSES ON YDEMI. 22 HOURS LEFT!\n",
            "Enter Event No.2 name: Get a System Administration certification from PurpleHat today.\n",
            ">>>GET A SYSTEM ADMINISTRATION CERTIFICATION FROM PURPLEHAT TODAY.\n",
            "Enter Event No.3 name: CodeBoost codeathon is live now!\n",
            ">>>CODEBOOST CODEATHON IS LIVE NOW!\n"
          ],
          "name": "stdout"
        }
      ]
    },
    {
      "cell_type": "code",
      "metadata": {
        "run_control": {
          "marked": false
        },
        "id": "qOkK1VCY1u_I",
        "colab_type": "code",
        "colab": {}
      },
      "source": [
        "def dom_eve_extractor(t):\n",
        "    flag_domain = 0\n",
        "    words = t.split()\n",
        "    import re\n",
        "    import string\n",
        "    re_punc = re.compile('[%s]' % re.escape(string.punctuation))\n",
        "    words = [re_punc.sub('', x) for x in words]\n",
        "    DE= []\n",
        "    DE_ml= []\n",
        "    for x in words:\n",
        "        try:\n",
        "            DE.append(Domain_extract[x])\n",
        "            flag_domain = 1\n",
        "        except:\n",
        "            pass\n",
        "    \n",
        "    if flag_domain == 0:\n",
        "        for x in words:\n",
        "            for y in words:\n",
        "                try:\n",
        "                    dummy = x+' '+y\n",
        "                    DE.append(Domain_extract[dummy])\n",
        "                except:\n",
        "                    pass   \n",
        "                \n",
        "    f = open('nlp.pkl','rb')\n",
        "    dict_nlp =pickle.load(f)\n",
        "    f.close()\n",
        "    nlp_df = DataFrame(list(dict_nlp.items()),columns = ['Domain','txt']) \n",
        "    from sklearn.feature_extraction.text import CountVectorizer\n",
        "    from nltk.corpus import stopwords\n",
        "    vectorizer = CountVectorizer(stop_words='english',binary=True)\n",
        "    train_vectors = vectorizer.fit_transform(nlp_df.txt)\n",
        "    temp1 = vectorizer.transform([t])\n",
        "    \n",
        "    \n",
        "    from sklearn import svm\n",
        "    clf_svm = svm.SVC(kernel='rbf')\n",
        "    clf_svm.fit(train_vectors,nlp_df.Domain)\n",
        "    pred = clf_svm.predict(temp1)[0]\n",
        "    DE_ml.append(pred)\n",
        "    \n",
        "    clf_svm = svm.SVC(kernel='linear')\n",
        "    clf_svm.fit(train_vectors,nlp_df.Domain)\n",
        "    pred = clf_svm.predict(temp1)[0]\n",
        "    DE_ml.append(pred)\n",
        "    \n",
        "    from sklearn.tree import DecisionTreeClassifier\n",
        "    clf_tree = DecisionTreeClassifier()\n",
        "    clf_tree.fit(train_vectors,nlp_df.Domain)\n",
        "    pred = clf_tree.predict(temp1)[0]\n",
        "    DE_ml.append(pred)\n",
        "    \n",
        "    from sklearn.naive_bayes import GaussianNB\n",
        "    clf_bay = GaussianNB()\n",
        "    clf_bay.fit(train_vectors.toarray(),nlp_df.Domain)\n",
        "    pred = clf_bay.predict(temp1.toarray())[0]\n",
        "    DE_ml.append(pred)\n",
        "    \n",
        "    \n",
        "    from sklearn.ensemble import RandomForestClassifier\n",
        "    clf_RF = RandomForestClassifier()\n",
        "    clf_RF.fit(train_vectors,nlp_df.Domain)\n",
        "    pred = clf_RF.predict(temp1)[0]\n",
        "    DE_ml.append(pred)\n",
        "    \n",
        "    \n",
        "    for x in DE:\n",
        "        if x not in DE_ml:\n",
        "            DE_ml.append(x)\n",
        "    DE_ml = list(dict.fromkeys(DE_ml))\n",
        "    \n",
        "    for x in DE_ml:\n",
        "        if x not in DE:\n",
        "            io=1\n",
        "            DE_ml=DE\n",
        "    \n",
        "    if (len(DE_ml) == 0):\n",
        "        DE_ml.append('Other') \n",
        "        \n",
        "    print(DE_ml)\n",
        "    return DE_ml\n"
      ],
      "execution_count": 18,
      "outputs": []
    },
    {
      "cell_type": "code",
      "metadata": {
        "id": "xfu8K9_R1u_M",
        "colab_type": "code",
        "colab": {}
      },
      "source": [
        "def eve_ext(t):\n",
        "    t=t.split()\n",
        "    import re\n",
        "    import string\n",
        "    re_punc = re.compile('[%s]' % re.escape(string.punctuation))\n",
        "    t = [re_punc.sub('', x) for x in t]\n",
        "    EE= []\n",
        "    for x in t:\n",
        "        try:            \n",
        "            EE.append(Event_extract[x])\n",
        "        except:\n",
        "            pass\n",
        "    print(EE)\n",
        "    return EE"
      ],
      "execution_count": 19,
      "outputs": []
    },
    {
      "cell_type": "markdown",
      "metadata": {
        "id": "GjoXcE0fiRFr",
        "colab_type": "text"
      },
      "source": [
        "##Trannning Data With Event1\n"
      ]
    },
    {
      "cell_type": "code",
      "metadata": {
        "run_control": {
          "marked": false
        },
        "id": "ImStEkUP1u_T",
        "colab_type": "code",
        "colab": {}
      },
      "source": [
        "def traineventone(tmp_df,scoreone):\n",
        "    x_train = tmp_df[['Event1','Domain']]\n",
        "    y_train = tmp_df['Name']\n",
        "    req_ENO =[]\n",
        "    req_DNO =[]\n",
        "    clf = tree.DecisionTreeClassifier()\n",
        "\n",
        "    clf.fit(x_train,y_train)\n",
        "    y_pred = clf.predict(x_train)\n",
        "    \n",
        "\n",
        "    def p1():\n",
        "        for x,y in zip(EN,EU):\n",
        "            if y in EE:\n",
        "                req_ENO.append(x)  \n",
        "        for x,y in zip(DN,DU):\n",
        "            if y in DE:\n",
        "                req_DNO.append(x) \n",
        "                \n",
        "        def p2(req_ENO,req_DNO):\n",
        "            flagg=0\n",
        "            if(len(req_ENO)>len(req_DNO)):\n",
        "                diff=len(req_ENO)-len(req_DNO)    \n",
        "                [req_DNO.append(req_DNO[-1]) for i in range(0,diff)]\n",
        "                \n",
        "            else:\n",
        "                diff=len(req_DNO)-len(req_ENO)\n",
        "                try:\n",
        "                    [req_ENO.append(req_ENO[-1]) for i in range(0,diff)]\n",
        "                    flagg=1\n",
        "                except:\n",
        "                    pass\n",
        "                \n",
        "            if flagg==1:\n",
        "                for e,d in zip(req_ENO,req_DNO):\n",
        "                    x_new=[[e,d]]   \n",
        "                    tmp = clf.predict_proba(x_new)\n",
        "                    for index, prob in enumerate(tmp[0]):\n",
        "                        if prob>=0.5:\n",
        "                            for x,y in zip(pNO,pUQ):\n",
        "                                if x==index+1:\n",
        "                                    temp_name_list.append(y)\n",
        "        p2(req_ENO,req_DNO)\n",
        "    p1()"
      ],
      "execution_count": 20,
      "outputs": []
    },
    {
      "cell_type": "markdown",
      "metadata": {
        "id": "Z4EvlPmEiZj1",
        "colab_type": "text"
      },
      "source": [
        "##Tranning Data with Event2"
      ]
    },
    {
      "cell_type": "code",
      "metadata": {
        "run_control": {
          "marked": false
        },
        "id": "i8kqRYaZ1u_Y",
        "colab_type": "code",
        "colab": {}
      },
      "source": [
        "def traineventtwo(tmp_df,printscoretwo):\n",
        "    x_train = df[['Event2','Domain']]\n",
        "    y_train = df['Name']\n",
        "    req_ENO =[]\n",
        "    req_DNO =[]\n",
        "\n",
        "    clf = tree.DecisionTreeClassifier()\n",
        "    clf.fit(x_train,y_train)\n",
        "    \n",
        "    y_pred = clf.predict(x_train)\n",
        "    def d1():\n",
        "        for x,y in zip(EN,EU):\n",
        "            if y in EE:\n",
        "                req_ENO.append(x)\n",
        "        for x,y in zip(DN,DU):\n",
        "            if y in DE:\n",
        "                req_DNO.append(x)\n",
        "                \n",
        "        def d2(req_ENO,req_DNO):\n",
        "            flagg=0\n",
        "            if(len(req_ENO)>len(req_DNO)):\n",
        "                diff=len(req_ENO)-len(req_DNO)\n",
        "                [req_DNO.append(req_DNO[-1]) for i in range(0,diff)]\n",
        "\n",
        "            else:\n",
        "                diff=len(req_DNO)-len(req_ENO)\n",
        "                try:\n",
        "                    [req_ENO.append(req_ENO[-1]) for i in range(0,diff)]\n",
        "                    flagg=1\n",
        "                except:\n",
        "                    pass\n",
        "            \n",
        "            if flagg==1:\n",
        "                for e,d in zip(req_ENO,req_DNO):\n",
        "                    x_new=[[e,d]]\n",
        "                    yprob = clf.predict_proba(x_new)\n",
        "                    y_pred = clf.predict(x_new)\n",
        "                    for indx,prob in enumerate(yprob[0]):\n",
        "                        if prob>=0.5:\n",
        "                            for x,y in zip(pNO,pUQ):\n",
        "                                if x==indx+1:\n",
        "                                    temp_name_list.append(y)\n",
        "        d2(req_ENO,req_DNO)\n",
        "    d1()"
      ],
      "execution_count": 21,
      "outputs": []
    },
    {
      "cell_type": "code",
      "metadata": {
        "run_control": {
          "marked": false
        },
        "scrolled": true,
        "id": "-jZR28bK1u_i",
        "colab_type": "code",
        "colab": {
          "base_uri": "https://localhost:8080/",
          "height": 117
        },
        "outputId": "a1cc54da-6dba-4a76-c51c-4e2f12905872"
      },
      "source": [
        "words2num_flag = 0\n",
        "\n",
        "for t in event_list:\n",
        "    DE = dom_eve_extractor(t)\n",
        "    EE = eve_ext(t)\n",
        "    traineventone(tmp_df,scoreone)\n",
        "    traineventtwo(tmp_df,scoretwo)\n",
        "    name_list.append(temp_name_list)\n",
        "    temp_name_list=[]"
      ],
      "execution_count": 22,
      "outputs": [
        {
          "output_type": "stream",
          "text": [
            "['Other']\n",
            "['Courses']\n",
            "['Other']\n",
            "['Certifications']\n",
            "['Coding']\n",
            "['Hackathons']\n"
          ],
          "name": "stdout"
        }
      ]
    },
    {
      "cell_type": "code",
      "metadata": {
        "id": "FGOecsOm1u_m",
        "colab_type": "code",
        "colab": {}
      },
      "source": [
        "dict1 = {}\n",
        "dict2 = {}"
      ],
      "execution_count": 23,
      "outputs": []
    },
    {
      "cell_type": "code",
      "metadata": {
        "id": "UcgInwii1u_r",
        "colab_type": "code",
        "colab": {}
      },
      "source": [
        "for totalppl,event in zip(name_list,event_list):\n",
        "    for person in totalppl:\n",
        "        if person not in dict1:\n",
        "            dict1[person]=event\n",
        "        elif person in dict1:\n",
        "            dict2[person]=event"
      ],
      "execution_count": 24,
      "outputs": []
    },
    {
      "cell_type": "code",
      "metadata": {
        "id": "Go0suLTt1u_v",
        "colab_type": "code",
        "colab": {}
      },
      "source": [
        "dfx = DataFrame(list(dict1.items()),columns = ['Employee Name','Events']) "
      ],
      "execution_count": 25,
      "outputs": []
    },
    {
      "cell_type": "code",
      "metadata": {
        "id": "PF_r-3nq1u_0",
        "colab_type": "code",
        "colab": {
          "base_uri": "https://localhost:8080/",
          "height": 256
        },
        "outputId": "04ac190e-2c3a-4584-adfe-fa706dd4c03f"
      },
      "source": [
        "if bool(dict2):\n",
        "    dfy = DataFrame(list(dict2.items()),columns = ['Employee Name','Events'])\n",
        "    dfx = dfx.append(dfy).reset_index()\n",
        "    dfx.drop(columns='index')\n",
        "dfx"
      ],
      "execution_count": 26,
      "outputs": [
        {
          "output_type": "execute_result",
          "data": {
            "text/html": [
              "<div>\n",
              "<style scoped>\n",
              "    .dataframe tbody tr th:only-of-type {\n",
              "        vertical-align: middle;\n",
              "    }\n",
              "\n",
              "    .dataframe tbody tr th {\n",
              "        vertical-align: top;\n",
              "    }\n",
              "\n",
              "    .dataframe thead th {\n",
              "        text-align: right;\n",
              "    }\n",
              "</style>\n",
              "<table border=\"1\" class=\"dataframe\">\n",
              "  <thead>\n",
              "    <tr style=\"text-align: right;\">\n",
              "      <th></th>\n",
              "      <th>Employee Name</th>\n",
              "      <th>Events</th>\n",
              "    </tr>\n",
              "  </thead>\n",
              "  <tbody>\n",
              "    <tr>\n",
              "      <th>0</th>\n",
              "      <td>Jennifer Merritt</td>\n",
              "      <td>LOCKDOWN SPECIAL COURSES ON YDEMI. 22 HOURS LEFT!</td>\n",
              "    </tr>\n",
              "    <tr>\n",
              "      <th>1</th>\n",
              "      <td>Robert Ramirez</td>\n",
              "      <td>LOCKDOWN SPECIAL COURSES ON YDEMI. 22 HOURS LEFT!</td>\n",
              "    </tr>\n",
              "    <tr>\n",
              "      <th>2</th>\n",
              "      <td>Todd Smith</td>\n",
              "      <td>GET A SYSTEM ADMINISTRATION CERTIFICATION FROM...</td>\n",
              "    </tr>\n",
              "    <tr>\n",
              "      <th>3</th>\n",
              "      <td>Kenneth Martinez</td>\n",
              "      <td>GET A SYSTEM ADMINISTRATION CERTIFICATION FROM...</td>\n",
              "    </tr>\n",
              "    <tr>\n",
              "      <th>4</th>\n",
              "      <td>Mrs. Brenda Scott</td>\n",
              "      <td>GET A SYSTEM ADMINISTRATION CERTIFICATION FROM...</td>\n",
              "    </tr>\n",
              "    <tr>\n",
              "      <th>5</th>\n",
              "      <td>Corey Moran</td>\n",
              "      <td>CODEBOOST CODEATHON IS LIVE NOW!</td>\n",
              "    </tr>\n",
              "    <tr>\n",
              "      <th>6</th>\n",
              "      <td>Laura Hurst</td>\n",
              "      <td>CODEBOOST CODEATHON IS LIVE NOW!</td>\n",
              "    </tr>\n",
              "  </tbody>\n",
              "</table>\n",
              "</div>"
            ],
            "text/plain": [
              "       Employee Name                                             Events\n",
              "0   Jennifer Merritt  LOCKDOWN SPECIAL COURSES ON YDEMI. 22 HOURS LEFT!\n",
              "1     Robert Ramirez  LOCKDOWN SPECIAL COURSES ON YDEMI. 22 HOURS LEFT!\n",
              "2         Todd Smith  GET A SYSTEM ADMINISTRATION CERTIFICATION FROM...\n",
              "3   Kenneth Martinez  GET A SYSTEM ADMINISTRATION CERTIFICATION FROM...\n",
              "4  Mrs. Brenda Scott  GET A SYSTEM ADMINISTRATION CERTIFICATION FROM...\n",
              "5        Corey Moran                   CODEBOOST CODEATHON IS LIVE NOW!\n",
              "6        Laura Hurst                   CODEBOOST CODEATHON IS LIVE NOW!"
            ]
          },
          "metadata": {
            "tags": []
          },
          "execution_count": 26
        }
      ]
    },
    {
      "cell_type": "code",
      "metadata": {
        "id": "_sxAB7ZG1u_5",
        "colab_type": "code",
        "colab": {}
      },
      "source": [
        "dfx.to_excel('Event_NLP.xlsx', index = None, header=True)"
      ],
      "execution_count": 29,
      "outputs": []
    }
  ]
}