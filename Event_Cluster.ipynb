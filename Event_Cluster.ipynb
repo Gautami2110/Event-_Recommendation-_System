{
  "nbformat": 4,
  "nbformat_minor": 0,
  "metadata": {
    "gist": {
      "data": {
        "description": "PythonProjects/Cloud Counselage/GOD.ipynb",
        "public": false
      },
      "id": ""
    },
    "kernelspec": {
      "display_name": "Python 3",
      "language": "python",
      "name": "python3"
    },
    "language_info": {
      "codemirror_mode": {
        "name": "ipython",
        "version": 3
      },
      "file_extension": ".py",
      "mimetype": "text/x-python",
      "name": "python",
      "nbconvert_exporter": "python",
      "pygments_lexer": "ipython3",
      "version": "3.6.5"
    },
    "colab": {
      "name": "Event_Cluster.ipynb",
      "provenance": [],
      "collapsed_sections": []
    }
  },
  "cells": [
    {
      "cell_type": "code",
      "metadata": {
        "id": "o18S5AlAQ3hO",
        "colab_type": "code",
        "colab": {}
      },
      "source": [
        "import pandas as pd \n",
        "from sklearn.svm import SVC\n",
        "from sklearn.metrics import accuracy_score\n",
        "from sklearn.cluster import KMeans\n",
        "import matplotlib.pyplot as plt"
      ],
      "execution_count": 17,
      "outputs": []
    },
    {
      "cell_type": "code",
      "metadata": {
        "id": "1hlLa4keQ3hY",
        "colab_type": "code",
        "colab": {}
      },
      "source": [
        "scoreone=0\n",
        "scoretwo=0"
      ],
      "execution_count": 18,
      "outputs": []
    },
    {
      "cell_type": "code",
      "metadata": {
        "id": "MTPDyu2dQ3hh",
        "colab_type": "code",
        "colab": {
          "base_uri": "https://localhost:8080/",
          "height": 196
        },
        "outputId": "e7b6f188-66fd-4b36-8874-99777b05aa89"
      },
      "source": [
        "df = pd.read_csv('CCMLEmployeeData.csv')\n",
        "df.head()"
      ],
      "execution_count": 19,
      "outputs": [
        {
          "output_type": "execute_result",
          "data": {
            "text/html": [
              "<div>\n",
              "<style scoped>\n",
              "    .dataframe tbody tr th:only-of-type {\n",
              "        vertical-align: middle;\n",
              "    }\n",
              "\n",
              "    .dataframe tbody tr th {\n",
              "        vertical-align: top;\n",
              "    }\n",
              "\n",
              "    .dataframe thead th {\n",
              "        text-align: right;\n",
              "    }\n",
              "</style>\n",
              "<table border=\"1\" class=\"dataframe\">\n",
              "  <thead>\n",
              "    <tr style=\"text-align: right;\">\n",
              "      <th></th>\n",
              "      <th>Name</th>\n",
              "      <th>Domain</th>\n",
              "      <th>Event1</th>\n",
              "      <th>Event2</th>\n",
              "    </tr>\n",
              "  </thead>\n",
              "  <tbody>\n",
              "    <tr>\n",
              "      <th>0</th>\n",
              "      <td>Bryan Brock</td>\n",
              "      <td>Management</td>\n",
              "      <td>Jobs</td>\n",
              "      <td>Hackathons</td>\n",
              "    </tr>\n",
              "    <tr>\n",
              "      <th>1</th>\n",
              "      <td>Joseph Sullivan</td>\n",
              "      <td>Coding</td>\n",
              "      <td>Certifications</td>\n",
              "      <td>Webinars</td>\n",
              "    </tr>\n",
              "    <tr>\n",
              "      <th>2</th>\n",
              "      <td>Sherri Dawson</td>\n",
              "      <td>Security</td>\n",
              "      <td>Internships</td>\n",
              "      <td>Fests</td>\n",
              "    </tr>\n",
              "    <tr>\n",
              "      <th>3</th>\n",
              "      <td>Dustin Ferguson</td>\n",
              "      <td>Hardware</td>\n",
              "      <td>Competitions</td>\n",
              "      <td>Webinars</td>\n",
              "    </tr>\n",
              "    <tr>\n",
              "      <th>4</th>\n",
              "      <td>Kayla Young</td>\n",
              "      <td>Web Development</td>\n",
              "      <td>Expos</td>\n",
              "      <td>Certifications</td>\n",
              "    </tr>\n",
              "  </tbody>\n",
              "</table>\n",
              "</div>"
            ],
            "text/plain": [
              "              Name           Domain          Event1          Event2\n",
              "0      Bryan Brock       Management            Jobs      Hackathons\n",
              "1  Joseph Sullivan           Coding  Certifications        Webinars\n",
              "2    Sherri Dawson         Security     Internships           Fests\n",
              "3  Dustin Ferguson         Hardware    Competitions        Webinars\n",
              "4      Kayla Young  Web Development           Expos  Certifications"
            ]
          },
          "metadata": {
            "tags": []
          },
          "execution_count": 19
        }
      ]
    },
    {
      "cell_type": "code",
      "metadata": {
        "id": "7UXPcrlvQ3ht",
        "colab_type": "code",
        "colab": {
          "base_uri": "https://localhost:8080/",
          "height": 117
        },
        "outputId": "73ea2718-c337-4c69-b235-aae2fde29ae2"
      },
      "source": [
        "df.Domain.unique()"
      ],
      "execution_count": 20,
      "outputs": [
        {
          "output_type": "execute_result",
          "data": {
            "text/plain": [
              "array(['Management', 'Coding', 'Security', 'Hardware', 'Web Development',\n",
              "       'Higher Education', 'IoT', 'Java', 'Artificial Intelligence',\n",
              "       'Python', 'Finance', 'Mobile Applications', 'C++',\n",
              "       'Software Architecture', 'Other', 'C', 'Cloud Computing',\n",
              "       'Networking', 'JavaScript', 'Machine Learning', 'Blockchain',\n",
              "       'Development Processes', 'Data Science'], dtype=object)"
            ]
          },
          "metadata": {
            "tags": []
          },
          "execution_count": 20
        }
      ]
    },
    {
      "cell_type": "code",
      "metadata": {
        "id": "zKjzDIg8Q3h0",
        "colab_type": "code",
        "colab": {
          "base_uri": "https://localhost:8080/",
          "height": 67
        },
        "outputId": "08c76689-a249-462f-df3c-93affc6d2e86"
      },
      "source": [
        "df.Event1.unique()"
      ],
      "execution_count": 21,
      "outputs": [
        {
          "output_type": "execute_result",
          "data": {
            "text/plain": [
              "array(['Jobs', 'Certifications', 'Internships', 'Competitions', 'Expos',\n",
              "       'Workshops', 'Trainings', 'Seminars', 'Hackathons', 'Fests',\n",
              "       'Talks', 'Webinars', 'Courses'], dtype=object)"
            ]
          },
          "metadata": {
            "tags": []
          },
          "execution_count": 21
        }
      ]
    },
    {
      "cell_type": "code",
      "metadata": {
        "run_control": {
          "marked": false
        },
        "id": "YvRWbiNxQ3h9",
        "colab_type": "code",
        "colab": {
          "base_uri": "https://localhost:8080/",
          "height": 196
        },
        "outputId": "11d7f472-dea8-476f-e9ba-158353f66d07"
      },
      "source": [
        "DU = df.Domain.unique()\n",
        "DN=[]\n",
        "for x in range(1,len(DU)+1):\n",
        "    DN.append(x)\n",
        "\n",
        "EU = df.Event1.unique()\n",
        "EN=[]\n",
        "for x in range(1,len(EU)+1):\n",
        "    EN.append(x)\n",
        "    \n",
        "pUQ = df.Name.unique()\n",
        "pNO=[]\n",
        "for x in range(1,len(pUQ)+1):\n",
        "    pNO.append(x)\n",
        "               \n",
        "df['Event1'].replace(EU,EN,inplace=True)\n",
        "df['Event2'].replace(EU,EN,inplace=True)\n",
        "df['Domain'].replace(DU,DN,inplace=True)\n",
        "df['Name'].replace(pUQ,pNO,inplace=True)\n",
        "    \n",
        "tmp_df=df.copy()\n",
        "df.head()\n"
      ],
      "execution_count": 22,
      "outputs": [
        {
          "output_type": "execute_result",
          "data": {
            "text/html": [
              "<div>\n",
              "<style scoped>\n",
              "    .dataframe tbody tr th:only-of-type {\n",
              "        vertical-align: middle;\n",
              "    }\n",
              "\n",
              "    .dataframe tbody tr th {\n",
              "        vertical-align: top;\n",
              "    }\n",
              "\n",
              "    .dataframe thead th {\n",
              "        text-align: right;\n",
              "    }\n",
              "</style>\n",
              "<table border=\"1\" class=\"dataframe\">\n",
              "  <thead>\n",
              "    <tr style=\"text-align: right;\">\n",
              "      <th></th>\n",
              "      <th>Name</th>\n",
              "      <th>Domain</th>\n",
              "      <th>Event1</th>\n",
              "      <th>Event2</th>\n",
              "    </tr>\n",
              "  </thead>\n",
              "  <tbody>\n",
              "    <tr>\n",
              "      <th>0</th>\n",
              "      <td>1</td>\n",
              "      <td>1</td>\n",
              "      <td>1</td>\n",
              "      <td>9</td>\n",
              "    </tr>\n",
              "    <tr>\n",
              "      <th>1</th>\n",
              "      <td>2</td>\n",
              "      <td>2</td>\n",
              "      <td>2</td>\n",
              "      <td>12</td>\n",
              "    </tr>\n",
              "    <tr>\n",
              "      <th>2</th>\n",
              "      <td>3</td>\n",
              "      <td>3</td>\n",
              "      <td>3</td>\n",
              "      <td>10</td>\n",
              "    </tr>\n",
              "    <tr>\n",
              "      <th>3</th>\n",
              "      <td>4</td>\n",
              "      <td>4</td>\n",
              "      <td>4</td>\n",
              "      <td>12</td>\n",
              "    </tr>\n",
              "    <tr>\n",
              "      <th>4</th>\n",
              "      <td>5</td>\n",
              "      <td>5</td>\n",
              "      <td>5</td>\n",
              "      <td>2</td>\n",
              "    </tr>\n",
              "  </tbody>\n",
              "</table>\n",
              "</div>"
            ],
            "text/plain": [
              "   Name  Domain  Event1  Event2\n",
              "0     1       1       1       9\n",
              "1     2       2       2      12\n",
              "2     3       3       3      10\n",
              "3     4       4       4      12\n",
              "4     5       5       5       2"
            ]
          },
          "metadata": {
            "tags": []
          },
          "execution_count": 22
        }
      ]
    },
    {
      "cell_type": "code",
      "metadata": {
        "id": "4cQa1k4RQ3iE",
        "colab_type": "code",
        "colab": {}
      },
      "source": [
        "Domain_extract={\n",
        "    'MANAGEMENT':'Management',                                       'MANAGEMENTS':'Management',  \n",
        "    'C':'C',                                                         'CODEATHON':'Coding',\n",
        "    'CODING':'Coding',                                               'HARDWARES': 'Hardware',\n",
        "    'CLOUD COMPUTING': 'Cloud Computing',                            'NETWORKS':'Networking',\n",
        "    'SECURITY':'Security',                                           'NETWORK':'Networking',\n",
        "    'JAVASCRIPT':'JavaScript',                                       'BLOCKCHAINS': 'Blockchain',\n",
        "    'HARDWARE': 'Hardware',                                          'DEVELOPMENT PROCESS':'Development Processes',\n",
        "    'NETWORKING':'Networking',                                       'DATA ANALYSIS':'Data Science',\n",
        "    'WEB DEVELOPMENT':'Web Development',                             'SOFTWARE ARCHITECTURES':'Software Architecture',\n",
        "    'MACHINE LEARNING':'Machine Learning',                           'MOBILE APPLICATION':'Mobile Applications',\n",
        "    'HIGHER EDUCATION':'Higher Education',                           'ANDROID':'Mobile Applications',\n",
        "    'BLOCKCHAIN': 'Blockchain',                                      'SYSTEM ADMINISTRATIOR':'Other',\n",
        "    'IOT':'IoT',                                                     'BIG DATA':'Data Science',\n",
        "    'C++':'C++',                                                     'DATABASE':'Other',\n",
        "    'JAVA':'Java',                                                   'NETWORK ARCHITECT':'Networking',\n",
        "    'DEVELOPMENT PROCESSES':'Development Processes',                 'WEB DEVELOPER':'Web Development',\n",
        "    'ARTIFICIAL INTELLIGENCE':'Artificial Intelligence',             'INFORMATION SECURITY':'Security',\n",
        "    'DATA SCIENCE':'Data Science',                                   'CYBER SECURITY':'Security',\n",
        "    'PYTHON':'Python',                                               'QUERY':'Other',\n",
        "    'SOFTWARE ARCHITECTURE':'Software Architecture',                 'DATA SCIENTIST':'Data Science',\n",
        "    'FINANCE':'Finance',                                             'DATA MANAGER':'Other',\n",
        "    'OTHER': 'Other',                                                'IT AUDITOR':'Other',\n",
        "    'MOBILE APPLICATIONS':'Mobile Applications',                     'ETHICAL HACKING':'Other',\n",
        "    'SYSTEM ADMINISTRATION':'Other',                                 'ETHICAL HACKER':'Other',\n",
        "    'DATA ENGINEER':'Data Science',                                   'NETWORK ANALYST':'Networking', \n",
        "    'WIRELESS ENGINEER':'Networking',                                'NETWORK MANAGER':'Networking',    \n",
        "    'PROJECT MANAGER':'Development Processes',                       'PRODUCT MANAGER':'Development Processes', \n",
        "    'BUSINESS':'Finance',                                            'INVESTMENT':'Finance',  \n",
        "    'TERTIARY EDUCATION':'Higher Education',                         'MASTERS':'Higher Education',  \n",
        "    'A.I.':'Artificial Intelligence',                                'AI':'Artificial Intelligence',  \n",
        "    'M.L.':'Machine Learning',                                        'ML':'Machine Learning',\n",
        "    'CRYPTOCURRENCY':'Blockchain',                                   'CRYPTO CURRENCY':'Blockchain',\n",
        "    'SDLC':'Development Processes',                                  'AGILE':'Development Processes', \n",
        "    'SCRUM':'Development Processes',                                 'KANBAN':'Development Processes'  \n",
        "}\n"
      ],
      "execution_count": 23,
      "outputs": []
    },
    {
      "cell_type": "code",
      "metadata": {
        "id": "iLW6mXunh6gZ",
        "colab_type": "code",
        "colab": {
          "base_uri": "https://localhost:8080/",
          "height": 325
        },
        "outputId": "95b7cc5e-9658-47db-b0c5-b65bf0895786"
      },
      "source": [
        "\n",
        "df['Domain'].value_counts()[0:10].plot(kind='barh', figsize=[8,5], fontsize=15, color='navy').invert_yaxis()"
      ],
      "execution_count": 24,
      "outputs": [
        {
          "output_type": "display_data",
          "data": {
            "image/png": "[encoded data removed]",
            "text/plain": [
              "<Figure size 576x360 with 1 Axes>"
            ]
          },
          "metadata": {
            "tags": [],
            "needs_background": "light"
          }
        }
      ]
    },
    {
      "cell_type": "code",
      "metadata": {
        "id": "ayvzbXjtQ3iP",
        "colab_type": "code",
        "colab": {}
      },
      "source": [
        "Event_extract={\n",
        "    'JOBS':'Jobs',                  'CERTIFICATIONS':'Certifications',\n",
        "    'INTERNSHIPS':'Internships',    'COMPETITIONS':'Competitions',\n",
        "    'EXPOS':'Expos',                'WORKSHOPS':'Workshops',\n",
        "    'TRAININGS':'Trainings',        'SEMINARS':'Seminars',\n",
        "    'HACKATHONS':'Hackathons',      'FESTS':'Fests',\n",
        "    'TALKS': 'Talks',               'WEBINARS':'Webinars',\n",
        "    'COURSES':'Courses',            'HACKATHON':'Hackathons'\n",
        "}"
      ],
      "execution_count": 25,
      "outputs": []
    },
    {
      "cell_type": "code",
      "metadata": {
        "run_control": {
          "marked": false
        },
        "id": "dmu9JjFjQ3iW",
        "colab_type": "code",
        "colab": {
          "base_uri": "https://localhost:8080/",
          "height": 117
        },
        "outputId": "e407e2fc-3483-4d4a-b9b0-4a5c10adcfef"
      },
      "source": [
        "event_no = int(input('Enter number of events: '))\n",
        "event_list=[]\n",
        "for x in range(1,event_no+1):\n",
        "    event = (input(f'Enter Event No.{x} name: ')).upper()\n",
        "    event_list.append(event)\n",
        "    print(event)\n",
        "print(event_list)"
      ],
      "execution_count": 26,
      "outputs": [
        {
          "output_type": "stream",
          "text": [
            "Enter number of events: 2\n",
            "Enter Event No.1 name: Java Jobs\n",
            "JAVA JOBS\n",
            "Enter Event No.2 name: C Fests\n",
            "C FESTS\n",
            "['JAVA JOBS', 'C FESTS']\n"
          ],
          "name": "stdout"
        }
      ]
    },
    {
      "cell_type": "code",
      "metadata": {
        "id": "R_PeGyEHQ3if",
        "colab_type": "code",
        "colab": {}
      },
      "source": [
        "def event_splitter(x):\n",
        "    t = x.split(' ')\n",
        "    return t"
      ],
      "execution_count": 27,
      "outputs": []
    },
    {
      "cell_type": "code",
      "metadata": {
        "id": "Or-eu9K8Q3il",
        "colab_type": "code",
        "colab": {}
      },
      "source": [
        "def dom_eve_extractor(t):\n",
        "    flag_domain = 0\n",
        "    flag_event = 0\n",
        "    DE= 'nil'\n",
        "    EE= 'nil'\n",
        "    for x in t:\n",
        "        try:\n",
        "            DE = Domain_extract[x]\n",
        "            flag_domain = 1\n",
        "        except:\n",
        "            pass\n",
        "        try:\n",
        "            EE = Event_extract[x]\n",
        "            flag_event = 1\n",
        "        except:\n",
        "            pass\n",
        "    \n",
        "        \n",
        "    if flag_domain == 0:\n",
        "        for x in t:\n",
        "            for y in t:\n",
        "                try:\n",
        "                    dummy = x+' '+y\n",
        "                    DE = Domain_extract[dummy]\n",
        "                except:\n",
        "                    pass\n",
        "    \n",
        "    if flag_event == 0:\n",
        "        for x in t:\n",
        "            for y in t:\n",
        "                try:\n",
        "                    dummy = x+' '+y\n",
        "                    EE = Event_extract[dummy]\n",
        "                except:\n",
        "                    pass      \n",
        "                \n",
        "    print(f'Domain: {DE}')\n",
        "    print(f'Event: {EE}')\n",
        "    return DE, EE\n"
      ],
      "execution_count": 28,
      "outputs": []
    },
    {
      "cell_type": "markdown",
      "metadata": {
        "id": "oBrgMAhkQ3it",
        "colab_type": "text"
      },
      "source": [
        "## Training data with Event 1"
      ]
    },
    {
      "cell_type": "code",
      "metadata": {
        "id": "M3pGz1UIQ3iu",
        "colab_type": "code",
        "colab": {}
      },
      "source": [
        "def traineventone(tmp_df,scoreone):\n",
        "    x_train = tmp_df[['Event1','Domain']]\n",
        "    y_train = tmp_df['Name']\n",
        "    temp_Event1=[]\n",
        "    \n",
        "    number_of_clusters = 172\n",
        "    kmeans = KMeans(n_clusters=number_of_clusters, random_state=0).fit(x_train)    \n",
        "    y_pred = kmeans.predict(x_train)\n",
        "    if scoreone == 0:\n",
        "        print(f'Model accuracy score: {accuracy_score(y_train,y_pred)}')\n",
        "        scoreone=1\n",
        "        \n",
        "        def p1():\n",
        "            for x,y in zip(EN,EU):\n",
        "                if EE == y:\n",
        "                    req_ENO = x\n",
        "            for x,y in zip(DN,DU):\n",
        "                if DE == y:\n",
        "                    req_DNO = x\n",
        "            def p2(req_ENO,req_DNO):\n",
        "                x_new=[[req_ENO,req_DNO]]\n",
        "    \n",
        "                y_pred = kmeans.predict(x_new)\n",
        "                print(y_pred)\n",
        "\n",
        "    \n",
        "                for x,y in zip(pNO,pUQ):\n",
        "                    if x==y_pred:\n",
        "                        print(y)\n",
        "            p2(req_ENO,req_DNO)\n",
        "        p1()"
      ],
      "execution_count": 29,
      "outputs": []
    },
    {
      "cell_type": "markdown",
      "metadata": {
        "id": "X9-VKxlxQ3i6",
        "colab_type": "text"
      },
      "source": [
        "## Tranning data With Event 2"
      ]
    },
    {
      "cell_type": "code",
      "metadata": {
        "id": "Yl_G9OnzQ3i7",
        "colab_type": "code",
        "colab": {}
      },
      "source": [
        "def traineventtwo(tmp_df,scoretwo):\n",
        "    x_train = df[['Event2','Domain']]\n",
        "    y_train = df['Name']\n",
        "    temp_Event2=[]\n",
        "\n",
        "    number_of_clusters = 172\n",
        "    kmeans = KMeans(n_clusters=number_of_clusters, random_state=0).fit(x_train)    \n",
        "    y_pred = kmeans.predict(x_train)\n",
        "    print(f'Model accuracy score: {accuracy_score(y_train,y_pred)}')\n",
        "    def d1():\n",
        "        for x,y in zip(EN,EU):\n",
        "            if EE == y:\n",
        "                req_ENO = x\n",
        "        for x,y in zip(DN,DU):\n",
        "            if DE == y:\n",
        "                req_DNO = x\n",
        "        def d2(req_ENO,req_DNO):\n",
        "            x_new=[[req_ENO,req_DNO]]\n",
        "\n",
        "            y_pred = kmeans.predict(x_new)\n",
        "            print(y_pred)\n",
        "\n",
        "            for x,y in zip(pNO,pUQ):\n",
        "                if x==y_pred:\n",
        "                    print(y)\n",
        "        d2(req_ENO,req_DNO)\n",
        "    d1()\n",
        "   "
      ],
      "execution_count": 30,
      "outputs": []
    },
    {
      "cell_type": "code",
      "metadata": {
        "id": "ZT8Mv6ClQ3jB",
        "colab_type": "code",
        "colab": {
          "base_uri": "https://localhost:8080/",
          "height": 290
        },
        "outputId": "a9d06302-aefd-4ad6-aca4-53efe72ccfa8"
      },
      "source": [
        "import warnings\n",
        "warnings.filterwarnings('ignore')\n",
        "\n",
        "distortions = []\n",
        "x_train = tmp_df[['Event1','Domain']]\n",
        "\n",
        "for i in range(170, 183):\n",
        "    kmeans = KMeans(\n",
        "    n_clusters=i, tol=1e-04, random_state=0)\n",
        "    kmeans.fit(x_train)\n",
        "    distortions.append(kmeans.inertia_)\n",
        "\n",
        "# plot\n",
        "plt.plot(range(170, 183), distortions, marker='*')\n",
        "plt.xlabel('Number of clusters')\n",
        "plt.ylabel('Distortion')\n",
        "plt.show()"
      ],
      "execution_count": 31,
      "outputs": [
        {
          "output_type": "display_data",
          "data": {
            "image/png": "[encoded data removed]",
            "text/plain": [
              "<Figure size 432x288 with 1 Axes>"
            ]
          },
          "metadata": {
            "tags": [],
            "needs_background": "light"
          }
        }
      ]
    },
    {
      "cell_type": "code",
      "metadata": {
        "scrolled": true,
        "id": "ZekGiIfTQ3jG",
        "colab_type": "code",
        "colab": {
          "base_uri": "https://localhost:8080/",
          "height": 284
        },
        "outputId": "219bdfdc-68ef-4dc9-89cc-f30df0017c57"
      },
      "source": [
        "words2num_flag = 0\n",
        "for x in event_list:\n",
        "    t = event_splitter(x)\n",
        "    DE, EE= dom_eve_extractor(t)\n",
        "    traineventone(tmp_df,scoreone)\n",
        "    traineventtwo(tmp_df,scoretwo)"
      ],
      "execution_count": 32,
      "outputs": [
        {
          "output_type": "stream",
          "text": [
            "Domain: Java\n",
            "Event: Jobs\n",
            "Model accuracy score: 0.0\n",
            "[128]\n",
            "Mark Rogers\n",
            "Model accuracy score: 0.00546448087431694\n",
            "[78]\n",
            "Glenn Martinez\n",
            "Domain: C\n",
            "Event: Fests\n",
            "Model accuracy score: 0.0\n",
            "[119]\n",
            "Laura Wood\n",
            "Model accuracy score: 0.00546448087431694\n",
            "[55]\n",
            "Andrea Thompson\n"
          ],
          "name": "stdout"
        }
      ]
    }
  ]
}