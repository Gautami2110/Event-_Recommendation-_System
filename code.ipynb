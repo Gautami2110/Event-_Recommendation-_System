{
  "nbformat": 4,
  "nbformat_minor": 0,
  "metadata": {
    "kernelspec": {
      "display_name": "Python 3",
      "language": "python",
      "name": "python3"
    },
    "language_info": {
      "codemirror_mode": {
        "name": "ipython",
        "version": 3
      },
      "file_extension": ".py",
      "mimetype": "text/x-python",
      "name": "python",
      "nbconvert_exporter": "python",
      "pygments_lexer": "ipython3",
      "version": "3.6.5"
    },
    "colab": {
      "name": "code.ipynb",
      "provenance": []
    }
  },
  "cells": [
    {
      "cell_type": "code",
      "metadata": {
        "id": "BNjP_j-urdf-",
        "colab_type": "code",
        "colab": {}
      },
      "source": [
        "import pandas as pd\n",
        "import openpyxl\n",
        "from pandas import DataFrame\n",
        "from sklearn import tree\n",
        "import pickle\n",
        "import json\n",
        "import re\n",
        "import string\n",
        "from sklearn.feature_extraction.text import CountVectorizer\n",
        "from nltk.corpus import stopwords\n",
        "from sklearn import svm\n",
        "from sklearn.tree import DecisionTreeClassifier\n",
        "from sklearn.naive_bayes import GaussianNB\n",
        "from sklearn.ensemble import RandomForestClassifier"
      ],
      "execution_count": 1,
      "outputs": []
    },
    {
      "cell_type": "code",
      "metadata": {
        "id": "GMTTBkvUrdgI",
        "colab_type": "code",
        "colab": {}
      },
      "source": [
        "input_df = pd.read_csv('data.csv')\n",
        "length = input_df.shape[0]"
      ],
      "execution_count": 2,
      "outputs": []
    },
    {
      "cell_type": "code",
      "metadata": {
        "id": "bu8VJO3erdgQ",
        "colab_type": "code",
        "colab": {}
      },
      "source": [
        "f2 = open('nlp.pkl','rb')\n",
        "dict_nlp_eve = pickle.load(f2)\n",
        "f2.close()"
      ],
      "execution_count": 3,
      "outputs": []
    },
    {
      "cell_type": "code",
      "metadata": {
        "id": "KY4rhI3ordgW",
        "colab_type": "code",
        "colab": {}
      },
      "source": [
        "all_employees=[]"
      ],
      "execution_count": 4,
      "outputs": []
    },
    {
      "cell_type": "code",
      "metadata": {
        "id": "CarLFsa2rdgf",
        "colab_type": "code",
        "colab": {}
      },
      "source": [
        "df = pd.read_csv('CCMLEmployeeData.csv')\n",
        "copydf = df.copy()"
      ],
      "execution_count": 5,
      "outputs": []
    },
    {
      "cell_type": "code",
      "metadata": {
        "id": "7u8gXGAPrdgn",
        "colab_type": "code",
        "colab": {}
      },
      "source": [
        "inst = open('Extract_Domain.pkl','rb')                \n",
        "Domain_extract = pickle.load(inst)\n",
        "inst2 = open(\"Extract_Event.pkl\",\"rb\")\n",
        "Event_extract = pickle.load(inst2)"
      ],
      "execution_count": 6,
      "outputs": []
    },
    {
      "cell_type": "code",
      "metadata": {
        "id": "drvcpmBmrdgz",
        "colab_type": "code",
        "colab": {
          "base_uri": "https://localhost:8080/",
          "height": 53
        },
        "outputId": "ac6df343-70dd-480d-8905-1ca7373ca09b"
      },
      "source": [
        "event_list=[]\n",
        "for x in range(0,length):\n",
        "    event_list.append((input_df.iloc[x,0]).upper())\n",
        "print(event_list)"
      ],
      "execution_count": 7,
      "outputs": [
        {
          "output_type": "stream",
          "text": [
            "['CODEBOOST CODEATHON IS LIVE NOW!\"', 'NATIONAL WEBINAR ON BANKS, NBFCS & CAPITAL MARKETS', 'FREE COACHING FOR CAT/NMAT/CET/B.E/B.TECH', 'SUMMER INTERNSHIP OPPORTUNITY: WORK AS A TEACHER FOR GRE STUDENTS', 'REGISTER FOR A WEBINAR REGARDING MASTERS IN THE USA', 'HOW TO SCORE 340/340 IN THE GRE? JOIN US IN THIS FREE WEBINAR TO FIND OUT', 'ATTEND OUR HIGHER EDUCATION FAIR AND FIND THE RIGHT COLLEGE FOR YOU', '7 TOP-RANKED IRELAND UNIVERSITIES - ONLINE WEBINARS!', 'LOCKDOWN SPECIAL COURSES ON YDEMI. 22 HOURS LEFT!', 'BUILD YOUR RESUME BY JOINING US FOR OUR SUMMER INTERNSHIP PROGRAM ', 'INTRODUCING THE MANAGEMENT 2.0 HACKATHON', 'BLOCKCHAIN TALKS: SPEECH ON THE BLOCKCHAIN LIFE CYCLE', 'FREE BLOCKCHAIN WORKSHOP BY GREENLAWNS', 'ATTEND A PAID BLOCKCHAIN WORKSHOP AND FAIR', 'WORKSHOPS AND FAIRS: THE ANNUAL BLOCKCHAIN FAIR IS OUT NOW. REGISTER FOR THE THE WORKSHOP TODAY', 'JOIN US FOR A BLOCKCHAIN WORKSHOP AND LEARN THE BEAUTY OF BLOCKCHAINS', 'COMPLIMENTARY WORKSHOP/ FAIR ON BLOCKCHAIN. SIGN UP NOW TO ATTEND', 'SHOW YOUR JAVASCRIPT SKILLS IN OUR JS REACT HACKATHON AND CODEATHON', 'WELCOME TO THE MARUTI JAVASCRIPT 2020 HACKATHON', 'JAVASCRIPT (JS) CODEATHON IS HERE! SIGN UP NOW - HACKATHONS AND CODEATHONS', 'HACKATHONS AND CODEATHONS: THE JAVASCRIPT SHOWCASE HACKATHON IS OUT TODAY! SHOW YOUR JS SKILLS', 'JAVASCRIPT RELATED EVENTS: THE COLLEGEPOND JS HACKATHON IS OUT NOW. SHOW US YOUR JAVASCRIPT PROWESS', 'LEARN JAVASCRIPT (JS) FROM SCRATCH WITH THIS INRODUCTORY WEBINAR', 'JAVASCRIPT AND JS MODULE WITH ADVANCED JAVASCRIPT TECHNIQUES WITH OUR WEBINAR SERIES', 'COMPREHENSIVE JS WEBINARS TO TEACH YOU ABOUT JAVASCRIPT! SIGN UP NOW - WEBINAR SERIES', 'BUILD YOUR OWN JAVASCRIPT SOLUTIONS FROM THE GROUND UP WITH THE KNOWLEDGE FROM OUR JS WEBINARS', 'MANAGEMENT 2020 HACKATHON IS OUT', 'ATTEND A MANGAMENT HACKATHON OF YOUR CHOOSING', 'HACKATHONS AND MORE: MANAGEMENT HACKATHON IS HERE TO STAY', 'INTRODUCING THE MANAGEMENT 2.0 HACKATHON', 'PYTHON WORKSHOP IN YOUR HOME CITY', 'JOIN AN ONLINE WEBINAR SESSION ON THREAT HUNTING A SECURITY VULNERABILITY', 'CERTIFY YOURSELF AS A SECURITY EXPERT WITH OUR SECURITY CERTIFICATION', 'GET A CERTICIATE IN HOW TO SECURE YOURSELF FROM THREATS! SECURITY CERTIFICATION BY ANNA', 'FESTIVALS: THE CODING FEST IS HERE', 'CODING AND MORE AT THIS CODING FEST', \"WORLD'S BIGGEST CODING FEST - TECHGIG CODE GLADIATORS - IS BACK WITH ITS 7TH EDITION\", 'GET AN ASSOCIATE ANDROID DEVELOPER CERTIFICATION', 'CYBER SECURITY HUB MID-YEAR REPORT ONLINE WEBINAR']\n"
          ],
          "name": "stdout"
        }
      ]
    },
    {
      "cell_type": "code",
      "metadata": {
        "id": "zfgW8N7qrdg_",
        "colab_type": "code",
        "colab": {}
      },
      "source": [
        "def domain_extractor(t):\n",
        "    words=[]\n",
        "    flag_domain = 0\n",
        "    word = t.split(',')\n",
        "    for m in word:\n",
        "        tmp = m.split()\n",
        "        for x in tmp:\n",
        "            words.append(x)\n",
        "    DE= []\n",
        "    for x in words:\n",
        "        try:\n",
        "            DE.append(Domain_extract[x])\n",
        "            flag_domain = 1\n",
        "        except:\n",
        "            pass\n",
        "        \n",
        "    if True:\n",
        "        for x in words:\n",
        "            for y in words:\n",
        "                try:\n",
        "                    dummy = x+' '+y\n",
        "                    DE.append(Domain_extract[dummy])\n",
        "                except:\n",
        "                    pass  \n",
        "    DE = list(dict.fromkeys(DE))\n",
        "    return DE"
      ],
      "execution_count": 8,
      "outputs": []
    },
    {
      "cell_type": "code",
      "metadata": {
        "id": "FFHqwg15rdhE",
        "colab_type": "code",
        "colab": {}
      },
      "source": [
        "def domain_extractor_ml(t):\n",
        "    DE_ml=[]\n",
        "    nlp_df = DataFrame(list(Domain_extract.items()),columns = ['txt','Domain'])\n",
        "    vectorizer = CountVectorizer(stop_words='english',binary=True)\n",
        "    train_vectors = vectorizer.fit_transform(nlp_df.txt)\n",
        "    temp1 = vectorizer.transform([t])\n",
        "    \n",
        "    clf_svm = svm.SVC(kernel='rbf')\n",
        "    clf_svm.fit(train_vectors,nlp_df.Domain)\n",
        "    pred = clf_svm.predict(temp1)[0]\n",
        "    DE_ml.append(pred)\n",
        "  \n",
        "    clf_tree = DecisionTreeClassifier()\n",
        "    clf_tree.fit(train_vectors,nlp_df.Domain)\n",
        "    pred = clf_tree.predict(temp1)[0]\n",
        "    DE_ml.append(pred)\n",
        "    \n",
        "    clf_bay = GaussianNB()\n",
        "    clf_bay.fit(train_vectors.toarray(),nlp_df.Domain)\n",
        "    pred = clf_bay.predict(temp1.toarray())[0]\n",
        "    DE_ml.append(pred)\n",
        "    \n",
        "    DE_ml = list(dict.fromkeys(DE_ml))\n",
        "    return DE_ml"
      ],
      "execution_count": 9,
      "outputs": []
    },
    {
      "cell_type": "code",
      "metadata": {
        "id": "z4n7JgnirdhL",
        "colab_type": "code",
        "colab": {}
      },
      "source": [
        "def event_extractor(t):\n",
        "    words=t.split()\n",
        "    re_punc = re.compile('[%s]' % re.escape(string.punctuation))\n",
        "    words = [re_punc.sub('', x) for x in words]\n",
        "    EE= []\n",
        "    for x in words:\n",
        "        try:            \n",
        "            EE.append(Event_extract[x])\n",
        "        except:\n",
        "            pass\n",
        "\n",
        "    return EE"
      ],
      "execution_count": 10,
      "outputs": []
    },
    {
      "cell_type": "code",
      "metadata": {
        "id": "6CunA3__rdhR",
        "colab_type": "code",
        "colab": {}
      },
      "source": [
        "def event_extractor_ml(t):\n",
        "    EE_ml=[]\n",
        "    nlp_df = DataFrame(list(dict_nlp_eve.items()),columns = ['Event','txt']) \n",
        "    vectorizer = CountVectorizer(stop_words='english',binary=True)\n",
        "    train_vectors = vectorizer.fit_transform(nlp_df.txt)\n",
        "    temp1 = vectorizer.transform([t])\n",
        "    \n",
        "    clf_bay = GaussianNB()\n",
        "    clf_bay.fit(train_vectors.toarray(),nlp_df.Event)\n",
        "    pred = clf_bay.predict(temp1.toarray())[0]\n",
        "    EE_ml.append(pred)\n",
        "    \n",
        "    return EE_ml"
      ],
      "execution_count": 11,
      "outputs": []
    },
    {
      "cell_type": "code",
      "metadata": {
        "id": "WFeVnbH2rdhX",
        "colab_type": "code",
        "colab": {}
      },
      "source": [
        "def employees_event(DE,EE):\n",
        "    employees=[]\n",
        "    for x in DE:\n",
        "        temp1 = copydf[copydf['Domain']==x].copy()\n",
        "        for y in EE:\n",
        "            temp2 = temp1[temp1['Event1']==y].copy()\n",
        "            temp3 = temp1[temp1['Event2']==y].copy()\n",
        "            \n",
        "            try:\n",
        "                for z in temp2.Name:\n",
        "                    employees.append(z)\n",
        "                for z in temp3.Name:\n",
        "                    employees.append(z)\n",
        "            except:\n",
        "                pass\n",
        "\n",
        "    return employees"
      ],
      "execution_count": 12,
      "outputs": []
    },
    {
      "cell_type": "code",
      "metadata": {
        "id": "L-VYfuywrdhe",
        "colab_type": "code",
        "colab": {}
      },
      "source": [
        "\n",
        "for t in event_list:\n",
        "    DE = domain_extractor(t)\n",
        "    DE_ml = domain_extractor_ml(t)\n",
        "    EE =  event_extractor(t)\n",
        "    EE_ml = event_extractor_ml(t)\n",
        "    for x in DE_ml:\n",
        "        if x not in DE:\n",
        "            DE.append(x)\n",
        "    DE = list(dict.fromkeys(DE))\n",
        "    employees = employees_event(DE,EE)\n",
        "    if not employees:\n",
        "          employees.append('None')\n",
        "    all_employees.append(employees)"
      ],
      "execution_count": 13,
      "outputs": []
    },
    {
      "cell_type": "code",
      "metadata": {
        "id": "UTHPWNEnrdhk",
        "colab_type": "code",
        "colab": {}
      },
      "source": [
        "dict1={}\n",
        "for totalppl,event in zip(all_employees,event_list):\n",
        "    strx = str(totalppl)[1:-1]\n",
        "    strxx = strx.replace(\"'\", \"\")\n",
        "    dict1[event]=strxx"
      ],
      "execution_count": 14,
      "outputs": []
    },
    {
      "cell_type": "code",
      "metadata": {
        "id": "Q5hrYn_Nrdhp",
        "colab_type": "code",
        "colab": {
          "base_uri": "https://localhost:8080/",
          "height": 1000
        },
        "outputId": "1d3477ba-031c-4563-a9f1-3104b217bf44"
      },
      "source": [
        "dfx = DataFrame(list(dict1.items()),columns = ['Event Name','Employee Names']) \n",
        "dfx"
      ],
      "execution_count": 15,
      "outputs": [
        {
          "output_type": "execute_result",
          "data": {
            "text/html": [
              "<div>\n",
              "<style scoped>\n",
              "    .dataframe tbody tr th:only-of-type {\n",
              "        vertical-align: middle;\n",
              "    }\n",
              "\n",
              "    .dataframe tbody tr th {\n",
              "        vertical-align: top;\n",
              "    }\n",
              "\n",
              "    .dataframe thead th {\n",
              "        text-align: right;\n",
              "    }\n",
              "</style>\n",
              "<table border=\"1\" class=\"dataframe\">\n",
              "  <thead>\n",
              "    <tr style=\"text-align: right;\">\n",
              "      <th></th>\n",
              "      <th>Event Name</th>\n",
              "      <th>Employee Names</th>\n",
              "    </tr>\n",
              "  </thead>\n",
              "  <tbody>\n",
              "    <tr>\n",
              "      <th>0</th>\n",
              "      <td>CODEBOOST CODEATHON IS LIVE NOW!\"</td>\n",
              "      <td>Laura Hurst</td>\n",
              "    </tr>\n",
              "    <tr>\n",
              "      <th>1</th>\n",
              "      <td>NATIONAL WEBINAR ON BANKS, NBFCS &amp; CAPITAL MAR...</td>\n",
              "      <td>Kenneth Martinez, Melissa Harris, Mrs. Brenda ...</td>\n",
              "    </tr>\n",
              "    <tr>\n",
              "      <th>2</th>\n",
              "      <td>FREE COACHING FOR CAT/NMAT/CET/B.E/B.TECH</td>\n",
              "      <td>None</td>\n",
              "    </tr>\n",
              "    <tr>\n",
              "      <th>3</th>\n",
              "      <td>SUMMER INTERNSHIP OPPORTUNITY: WORK AS A TEACH...</td>\n",
              "      <td>Melinda West, Damon Lane</td>\n",
              "    </tr>\n",
              "    <tr>\n",
              "      <th>4</th>\n",
              "      <td>REGISTER FOR A WEBINAR REGARDING MASTERS IN TH...</td>\n",
              "      <td>None</td>\n",
              "    </tr>\n",
              "    <tr>\n",
              "      <th>5</th>\n",
              "      <td>HOW TO SCORE 340/340 IN THE GRE? JOIN US IN TH...</td>\n",
              "      <td>Kenneth Martinez, Melissa Harris, Mrs. Brenda ...</td>\n",
              "    </tr>\n",
              "    <tr>\n",
              "      <th>6</th>\n",
              "      <td>ATTEND OUR HIGHER EDUCATION FAIR AND FIND THE ...</td>\n",
              "      <td>None</td>\n",
              "    </tr>\n",
              "    <tr>\n",
              "      <th>7</th>\n",
              "      <td>7 TOP-RANKED IRELAND UNIVERSITIES - ONLINE WEB...</td>\n",
              "      <td>Kenneth Martinez, Melissa Harris, Mrs. Brenda ...</td>\n",
              "    </tr>\n",
              "    <tr>\n",
              "      <th>8</th>\n",
              "      <td>LOCKDOWN SPECIAL COURSES ON YDEMI. 22 HOURS LEFT!</td>\n",
              "      <td>Jennifer Merritt, Robert Ramirez, Michelle Mil...</td>\n",
              "    </tr>\n",
              "    <tr>\n",
              "      <th>9</th>\n",
              "      <td>BUILD YOUR RESUME BY JOINING US FOR OUR SUMMER...</td>\n",
              "      <td>Melinda West, Damon Lane</td>\n",
              "    </tr>\n",
              "    <tr>\n",
              "      <th>10</th>\n",
              "      <td>INTRODUCING THE MANAGEMENT 2.0 HACKATHON</td>\n",
              "      <td>Daniel Lopez, Bryan Brock, Derek Schmidt, Laur...</td>\n",
              "    </tr>\n",
              "    <tr>\n",
              "      <th>11</th>\n",
              "      <td>BLOCKCHAIN TALKS: SPEECH ON THE BLOCKCHAIN LIF...</td>\n",
              "      <td>Barbara Mcguire</td>\n",
              "    </tr>\n",
              "    <tr>\n",
              "      <th>12</th>\n",
              "      <td>FREE BLOCKCHAIN WORKSHOP BY GREENLAWNS</td>\n",
              "      <td>Mrs. Alexa Henson MD, Michael Baird, Courtney ...</td>\n",
              "    </tr>\n",
              "    <tr>\n",
              "      <th>13</th>\n",
              "      <td>ATTEND A PAID BLOCKCHAIN WORKSHOP AND FAIR</td>\n",
              "      <td>Mrs. Alexa Henson MD, Michael Baird, Courtney ...</td>\n",
              "    </tr>\n",
              "    <tr>\n",
              "      <th>14</th>\n",
              "      <td>WORKSHOPS AND FAIRS: THE ANNUAL BLOCKCHAIN FAI...</td>\n",
              "      <td>Mrs. Alexa Henson MD, Michael Baird, Courtney ...</td>\n",
              "    </tr>\n",
              "    <tr>\n",
              "      <th>15</th>\n",
              "      <td>JOIN US FOR A BLOCKCHAIN WORKSHOP AND LEARN TH...</td>\n",
              "      <td>Mrs. Alexa Henson MD, Michael Baird, Courtney ...</td>\n",
              "    </tr>\n",
              "    <tr>\n",
              "      <th>16</th>\n",
              "      <td>COMPLIMENTARY WORKSHOP/ FAIR ON BLOCKCHAIN. SI...</td>\n",
              "      <td>Mrs. Alexa Henson MD, Michael Baird, Courtney ...</td>\n",
              "    </tr>\n",
              "    <tr>\n",
              "      <th>17</th>\n",
              "      <td>SHOW YOUR JAVASCRIPT SKILLS IN OUR JS REACT HA...</td>\n",
              "      <td>Laura Hurst, Laura Hurst, Sherry Jensen, Sherr...</td>\n",
              "    </tr>\n",
              "    <tr>\n",
              "      <th>18</th>\n",
              "      <td>WELCOME TO THE MARUTI JAVASCRIPT 2020 HACKATHON</td>\n",
              "      <td>Laura Hurst, Sherry Jensen</td>\n",
              "    </tr>\n",
              "    <tr>\n",
              "      <th>19</th>\n",
              "      <td>JAVASCRIPT (JS) CODEATHON IS HERE! SIGN UP NOW...</td>\n",
              "      <td>Laura Hurst, Laura Hurst, Sherry Jensen, Sherr...</td>\n",
              "    </tr>\n",
              "    <tr>\n",
              "      <th>20</th>\n",
              "      <td>HACKATHONS AND CODEATHONS: THE JAVASCRIPT SHOW...</td>\n",
              "      <td>Laura Hurst, Laura Hurst, Sherry Jensen, Sherr...</td>\n",
              "    </tr>\n",
              "    <tr>\n",
              "      <th>21</th>\n",
              "      <td>JAVASCRIPT RELATED EVENTS: THE COLLEGEPOND JS ...</td>\n",
              "      <td>Laura Hurst, Sherry Jensen</td>\n",
              "    </tr>\n",
              "    <tr>\n",
              "      <th>22</th>\n",
              "      <td>LEARN JAVASCRIPT (JS) FROM SCRATCH WITH THIS I...</td>\n",
              "      <td>Kenneth Martinez, Melissa Harris, Mrs. Brenda ...</td>\n",
              "    </tr>\n",
              "    <tr>\n",
              "      <th>23</th>\n",
              "      <td>JAVASCRIPT AND JS MODULE WITH ADVANCED JAVASCR...</td>\n",
              "      <td>Kenneth Martinez, Melissa Harris, Mrs. Brenda ...</td>\n",
              "    </tr>\n",
              "    <tr>\n",
              "      <th>24</th>\n",
              "      <td>COMPREHENSIVE JS WEBINARS TO TEACH YOU ABOUT J...</td>\n",
              "      <td>Kenneth Martinez, Melissa Harris, Mrs. Brenda ...</td>\n",
              "    </tr>\n",
              "    <tr>\n",
              "      <th>25</th>\n",
              "      <td>BUILD YOUR OWN JAVASCRIPT SOLUTIONS FROM THE G...</td>\n",
              "      <td>Kenneth Martinez, Melissa Harris, Mrs. Brenda ...</td>\n",
              "    </tr>\n",
              "    <tr>\n",
              "      <th>26</th>\n",
              "      <td>MANAGEMENT 2020 HACKATHON IS OUT</td>\n",
              "      <td>Daniel Lopez, Bryan Brock, Derek Schmidt, Laur...</td>\n",
              "    </tr>\n",
              "    <tr>\n",
              "      <th>27</th>\n",
              "      <td>ATTEND A MANGAMENT HACKATHON OF YOUR CHOOSING</td>\n",
              "      <td>Laura Hurst</td>\n",
              "    </tr>\n",
              "    <tr>\n",
              "      <th>28</th>\n",
              "      <td>HACKATHONS AND MORE: MANAGEMENT HACKATHON IS H...</td>\n",
              "      <td>Daniel Lopez, Bryan Brock, Derek Schmidt, Dani...</td>\n",
              "    </tr>\n",
              "    <tr>\n",
              "      <th>29</th>\n",
              "      <td>PYTHON WORKSHOP IN YOUR HOME CITY</td>\n",
              "      <td>Chelsea Smith, Kristy Levine, Thomas Thompson,...</td>\n",
              "    </tr>\n",
              "    <tr>\n",
              "      <th>30</th>\n",
              "      <td>JOIN AN ONLINE WEBINAR SESSION ON THREAT HUNTI...</td>\n",
              "      <td>None</td>\n",
              "    </tr>\n",
              "    <tr>\n",
              "      <th>31</th>\n",
              "      <td>CERTIFY YOURSELF AS A SECURITY EXPERT WITH OUR...</td>\n",
              "      <td>David Foster, Ernest Pierce</td>\n",
              "    </tr>\n",
              "    <tr>\n",
              "      <th>32</th>\n",
              "      <td>GET A CERTICIATE IN HOW TO SECURE YOURSELF FRO...</td>\n",
              "      <td>David Foster, Ernest Pierce</td>\n",
              "    </tr>\n",
              "    <tr>\n",
              "      <th>33</th>\n",
              "      <td>FESTIVALS: THE CODING FEST IS HERE</td>\n",
              "      <td>Andre Elliott, Karen Baker</td>\n",
              "    </tr>\n",
              "    <tr>\n",
              "      <th>34</th>\n",
              "      <td>CODING AND MORE AT THIS CODING FEST</td>\n",
              "      <td>Andre Elliott, Karen Baker</td>\n",
              "    </tr>\n",
              "    <tr>\n",
              "      <th>35</th>\n",
              "      <td>WORLD'S BIGGEST CODING FEST - TECHGIG CODE GLA...</td>\n",
              "      <td>Andre Elliott, Karen Baker</td>\n",
              "    </tr>\n",
              "    <tr>\n",
              "      <th>36</th>\n",
              "      <td>GET AN ASSOCIATE ANDROID DEVELOPER CERTIFICATION</td>\n",
              "      <td>Christine Potter, Eric Townsend, Glenn Martinez</td>\n",
              "    </tr>\n",
              "    <tr>\n",
              "      <th>37</th>\n",
              "      <td>CYBER SECURITY HUB MID-YEAR REPORT ONLINE WEBINAR</td>\n",
              "      <td>None</td>\n",
              "    </tr>\n",
              "  </tbody>\n",
              "</table>\n",
              "</div>"
            ],
            "text/plain": [
              "                                           Event Name                                     Employee Names\n",
              "0                   CODEBOOST CODEATHON IS LIVE NOW!\"                                        Laura Hurst\n",
              "1   NATIONAL WEBINAR ON BANKS, NBFCS & CAPITAL MAR...  Kenneth Martinez, Melissa Harris, Mrs. Brenda ...\n",
              "2           FREE COACHING FOR CAT/NMAT/CET/B.E/B.TECH                                               None\n",
              "3   SUMMER INTERNSHIP OPPORTUNITY: WORK AS A TEACH...                           Melinda West, Damon Lane\n",
              "4   REGISTER FOR A WEBINAR REGARDING MASTERS IN TH...                                               None\n",
              "5   HOW TO SCORE 340/340 IN THE GRE? JOIN US IN TH...  Kenneth Martinez, Melissa Harris, Mrs. Brenda ...\n",
              "6   ATTEND OUR HIGHER EDUCATION FAIR AND FIND THE ...                                               None\n",
              "7   7 TOP-RANKED IRELAND UNIVERSITIES - ONLINE WEB...  Kenneth Martinez, Melissa Harris, Mrs. Brenda ...\n",
              "8   LOCKDOWN SPECIAL COURSES ON YDEMI. 22 HOURS LEFT!  Jennifer Merritt, Robert Ramirez, Michelle Mil...\n",
              "9   BUILD YOUR RESUME BY JOINING US FOR OUR SUMMER...                           Melinda West, Damon Lane\n",
              "10           INTRODUCING THE MANAGEMENT 2.0 HACKATHON  Daniel Lopez, Bryan Brock, Derek Schmidt, Laur...\n",
              "11  BLOCKCHAIN TALKS: SPEECH ON THE BLOCKCHAIN LIF...                                    Barbara Mcguire\n",
              "12             FREE BLOCKCHAIN WORKSHOP BY GREENLAWNS  Mrs. Alexa Henson MD, Michael Baird, Courtney ...\n",
              "13         ATTEND A PAID BLOCKCHAIN WORKSHOP AND FAIR  Mrs. Alexa Henson MD, Michael Baird, Courtney ...\n",
              "14  WORKSHOPS AND FAIRS: THE ANNUAL BLOCKCHAIN FAI...  Mrs. Alexa Henson MD, Michael Baird, Courtney ...\n",
              "15  JOIN US FOR A BLOCKCHAIN WORKSHOP AND LEARN TH...  Mrs. Alexa Henson MD, Michael Baird, Courtney ...\n",
              "16  COMPLIMENTARY WORKSHOP/ FAIR ON BLOCKCHAIN. SI...  Mrs. Alexa Henson MD, Michael Baird, Courtney ...\n",
              "17  SHOW YOUR JAVASCRIPT SKILLS IN OUR JS REACT HA...  Laura Hurst, Laura Hurst, Sherry Jensen, Sherr...\n",
              "18    WELCOME TO THE MARUTI JAVASCRIPT 2020 HACKATHON                         Laura Hurst, Sherry Jensen\n",
              "19  JAVASCRIPT (JS) CODEATHON IS HERE! SIGN UP NOW...  Laura Hurst, Laura Hurst, Sherry Jensen, Sherr...\n",
              "20  HACKATHONS AND CODEATHONS: THE JAVASCRIPT SHOW...  Laura Hurst, Laura Hurst, Sherry Jensen, Sherr...\n",
              "21  JAVASCRIPT RELATED EVENTS: THE COLLEGEPOND JS ...                         Laura Hurst, Sherry Jensen\n",
              "22  LEARN JAVASCRIPT (JS) FROM SCRATCH WITH THIS I...  Kenneth Martinez, Melissa Harris, Mrs. Brenda ...\n",
              "23  JAVASCRIPT AND JS MODULE WITH ADVANCED JAVASCR...  Kenneth Martinez, Melissa Harris, Mrs. Brenda ...\n",
              "24  COMPREHENSIVE JS WEBINARS TO TEACH YOU ABOUT J...  Kenneth Martinez, Melissa Harris, Mrs. Brenda ...\n",
              "25  BUILD YOUR OWN JAVASCRIPT SOLUTIONS FROM THE G...  Kenneth Martinez, Melissa Harris, Mrs. Brenda ...\n",
              "26                   MANAGEMENT 2020 HACKATHON IS OUT  Daniel Lopez, Bryan Brock, Derek Schmidt, Laur...\n",
              "27      ATTEND A MANGAMENT HACKATHON OF YOUR CHOOSING                                        Laura Hurst\n",
              "28  HACKATHONS AND MORE: MANAGEMENT HACKATHON IS H...  Daniel Lopez, Bryan Brock, Derek Schmidt, Dani...\n",
              "29                  PYTHON WORKSHOP IN YOUR HOME CITY  Chelsea Smith, Kristy Levine, Thomas Thompson,...\n",
              "30  JOIN AN ONLINE WEBINAR SESSION ON THREAT HUNTI...                                               None\n",
              "31  CERTIFY YOURSELF AS A SECURITY EXPERT WITH OUR...                        David Foster, Ernest Pierce\n",
              "32  GET A CERTICIATE IN HOW TO SECURE YOURSELF FRO...                        David Foster, Ernest Pierce\n",
              "33                 FESTIVALS: THE CODING FEST IS HERE                         Andre Elliott, Karen Baker\n",
              "34                CODING AND MORE AT THIS CODING FEST                         Andre Elliott, Karen Baker\n",
              "35  WORLD'S BIGGEST CODING FEST - TECHGIG CODE GLA...                         Andre Elliott, Karen Baker\n",
              "36   GET AN ASSOCIATE ANDROID DEVELOPER CERTIFICATION    Christine Potter, Eric Townsend, Glenn Martinez\n",
              "37  CYBER SECURITY HUB MID-YEAR REPORT ONLINE WEBINAR                                               None"
            ]
          },
          "metadata": {
            "tags": []
          },
          "execution_count": 15
        }
      ]
    },
    {
      "cell_type": "code",
      "metadata": {
        "id": "LgOUEiDDrdhx",
        "colab_type": "code",
        "colab": {
          "base_uri": "https://localhost:8080/",
          "height": 50
        },
        "outputId": "b840cdfa-7335-4e74-e510-b91955eaa043"
      },
      "source": [
        "dfx.to_excel('result.xlsx', index = None, header=True)\n",
        "print('Thank you for using Event Recommrndation System!\\nCheck Your Excel Sheet for recommendations')"
      ],
      "execution_count": 16,
      "outputs": [
        {
          "output_type": "stream",
          "text": [
            "Thank you for using Event Recommrndation System!\n",
            "Check Your Excel Sheet for recommendations\n"
          ],
          "name": "stdout"
        }
      ]
    }
  ]
}