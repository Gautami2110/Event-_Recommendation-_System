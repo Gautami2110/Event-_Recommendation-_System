{
  "nbformat": 4,
  "nbformat_minor": 0,
  "metadata": {
    "gist": {
      "data": {
        "description": "PythonProjects/Cloud Counselage/GOD.ipynb",
        "public": false
      },
      "id": ""
    },
    "kernelspec": {
      "display_name": "Python 3",
      "language": "python",
      "name": "python3"
    },
    "language_info": {
      "codemirror_mode": {
        "name": "ipython",
        "version": 3
      },
      "file_extension": ".py",
      "mimetype": "text/x-python",
      "name": "python",
      "nbconvert_exporter": "python",
      "pygments_lexer": "ipython3",
      "version": "3.6.5"
    },
    "colab": {
      "name": " Events .ipynb",
      "provenance": [],
      "toc_visible": true
    }
  },
  "cells": [
    {
      "cell_type": "code",
      "metadata": {
        "run_control": {
          "marked": false
        },
        "id": "PrZl3SBvzC9e",
        "colab_type": "code",
        "colab": {}
      },
      "source": [
        "import pandas as pd\n",
        "import openpyxl\n",
        "from pandas import DataFrame\n",
        "from sklearn import tree\n",
        "from sklearn.metrics import accuracy_score"
      ],
      "execution_count": 4,
      "outputs": []
    },
    {
      "cell_type": "code",
      "metadata": {
        "run_control": {
          "marked": false
        },
        "id": "jP0LHCK2zC9r",
        "colab_type": "code",
        "colab": {}
      },
      "source": [
        "scoreone=0\n",
        "scoretwo=0\n",
        "name_list=[]\n",
        "temp_name_list=[]"
      ],
      "execution_count": 5,
      "outputs": []
    },
    {
      "cell_type": "code",
      "metadata": {
        "run_control": {
          "marked": false
        },
        "id": "6tcy33N-zC94",
        "colab_type": "code",
        "colab": {
          "base_uri": "https://localhost:8080/",
          "height": 196
        },
        "outputId": "544ce0c4-8940-4bc0-abbc-507e3b657ecb"
      },
      "source": [
        "df = pd.read_csv('CCMLEmployeeData.csv')\n",
        "df.head()"
      ],
      "execution_count": 6,
      "outputs": [
        {
          "output_type": "execute_result",
          "data": {
            "text/html": [
              "<div>\n",
              "<style scoped>\n",
              "    .dataframe tbody tr th:only-of-type {\n",
              "        vertical-align: middle;\n",
              "    }\n",
              "\n",
              "    .dataframe tbody tr th {\n",
              "        vertical-align: top;\n",
              "    }\n",
              "\n",
              "    .dataframe thead th {\n",
              "        text-align: right;\n",
              "    }\n",
              "</style>\n",
              "<table border=\"1\" class=\"dataframe\">\n",
              "  <thead>\n",
              "    <tr style=\"text-align: right;\">\n",
              "      <th></th>\n",
              "      <th>Name</th>\n",
              "      <th>Domain</th>\n",
              "      <th>Event1</th>\n",
              "      <th>Event2</th>\n",
              "    </tr>\n",
              "  </thead>\n",
              "  <tbody>\n",
              "    <tr>\n",
              "      <th>0</th>\n",
              "      <td>Bryan Brock</td>\n",
              "      <td>Management</td>\n",
              "      <td>Jobs</td>\n",
              "      <td>Hackathons</td>\n",
              "    </tr>\n",
              "    <tr>\n",
              "      <th>1</th>\n",
              "      <td>Joseph Sullivan</td>\n",
              "      <td>Coding</td>\n",
              "      <td>Certifications</td>\n",
              "      <td>Webinars</td>\n",
              "    </tr>\n",
              "    <tr>\n",
              "      <th>2</th>\n",
              "      <td>Sherri Dawson</td>\n",
              "      <td>Security</td>\n",
              "      <td>Internships</td>\n",
              "      <td>Fests</td>\n",
              "    </tr>\n",
              "    <tr>\n",
              "      <th>3</th>\n",
              "      <td>Dustin Ferguson</td>\n",
              "      <td>Hardware</td>\n",
              "      <td>Competitions</td>\n",
              "      <td>Webinars</td>\n",
              "    </tr>\n",
              "    <tr>\n",
              "      <th>4</th>\n",
              "      <td>Kayla Young</td>\n",
              "      <td>Web Development</td>\n",
              "      <td>Expos</td>\n",
              "      <td>Certifications</td>\n",
              "    </tr>\n",
              "  </tbody>\n",
              "</table>\n",
              "</div>"
            ],
            "text/plain": [
              "              Name           Domain          Event1          Event2\n",
              "0      Bryan Brock       Management            Jobs      Hackathons\n",
              "1  Joseph Sullivan           Coding  Certifications        Webinars\n",
              "2    Sherri Dawson         Security     Internships           Fests\n",
              "3  Dustin Ferguson         Hardware    Competitions        Webinars\n",
              "4      Kayla Young  Web Development           Expos  Certifications"
            ]
          },
          "metadata": {
            "tags": []
          },
          "execution_count": 6
        }
      ]
    },
    {
      "cell_type": "code",
      "metadata": {
        "run_control": {
          "marked": false
        },
        "id": "yfXxgyDFzC-J",
        "colab_type": "code",
        "colab": {
          "base_uri": "https://localhost:8080/",
          "height": 196
        },
        "outputId": "a29db0a6-7d33-4e56-fb37-1a3291a5191d"
      },
      "source": [
        "DU = df.Domain.unique()\n",
        "DN=[]\n",
        "[DN.append(x) for x in range(1,len(DU)+1)]    \n",
        "\n",
        "EU = df.Event1.unique()\n",
        "EN=[]\n",
        "[EN.append(x) for x in range(1,len(EU)+1)]\n",
        "    \n",
        "    \n",
        "pUQ = df.Name.unique()\n",
        "pNO=[]\n",
        "[pNO.append(x) for x in range(1,len(pUQ)+1)]\n",
        "               \n",
        "df['Event1'].replace(EU,EN,inplace=True)\n",
        "df['Event2'].replace(EU,EN,inplace=True)\n",
        "df['Domain'].replace(DU,DN,inplace=True)\n",
        "df['Name'].replace(pUQ,pNO,inplace=True)\n",
        "    \n",
        "tmp_df=df.copy()\n",
        "df.head()"
      ],
      "execution_count": 7,
      "outputs": [
        {
          "output_type": "execute_result",
          "data": {
            "text/html": [
              "<div>\n",
              "<style scoped>\n",
              "    .dataframe tbody tr th:only-of-type {\n",
              "        vertical-align: middle;\n",
              "    }\n",
              "\n",
              "    .dataframe tbody tr th {\n",
              "        vertical-align: top;\n",
              "    }\n",
              "\n",
              "    .dataframe thead th {\n",
              "        text-align: right;\n",
              "    }\n",
              "</style>\n",
              "<table border=\"1\" class=\"dataframe\">\n",
              "  <thead>\n",
              "    <tr style=\"text-align: right;\">\n",
              "      <th></th>\n",
              "      <th>Name</th>\n",
              "      <th>Domain</th>\n",
              "      <th>Event1</th>\n",
              "      <th>Event2</th>\n",
              "    </tr>\n",
              "  </thead>\n",
              "  <tbody>\n",
              "    <tr>\n",
              "      <th>0</th>\n",
              "      <td>1</td>\n",
              "      <td>1</td>\n",
              "      <td>1</td>\n",
              "      <td>9</td>\n",
              "    </tr>\n",
              "    <tr>\n",
              "      <th>1</th>\n",
              "      <td>2</td>\n",
              "      <td>2</td>\n",
              "      <td>2</td>\n",
              "      <td>12</td>\n",
              "    </tr>\n",
              "    <tr>\n",
              "      <th>2</th>\n",
              "      <td>3</td>\n",
              "      <td>3</td>\n",
              "      <td>3</td>\n",
              "      <td>10</td>\n",
              "    </tr>\n",
              "    <tr>\n",
              "      <th>3</th>\n",
              "      <td>4</td>\n",
              "      <td>4</td>\n",
              "      <td>4</td>\n",
              "      <td>12</td>\n",
              "    </tr>\n",
              "    <tr>\n",
              "      <th>4</th>\n",
              "      <td>5</td>\n",
              "      <td>5</td>\n",
              "      <td>5</td>\n",
              "      <td>2</td>\n",
              "    </tr>\n",
              "  </tbody>\n",
              "</table>\n",
              "</div>"
            ],
            "text/plain": [
              "   Name  Domain  Event1  Event2\n",
              "0     1       1       1       9\n",
              "1     2       2       2      12\n",
              "2     3       3       3      10\n",
              "3     4       4       4      12\n",
              "4     5       5       5       2"
            ]
          },
          "metadata": {
            "tags": []
          },
          "execution_count": 7
        }
      ]
    },
    {
      "cell_type": "code",
      "metadata": {
        "editable": false,
        "run_control": {
          "marked": false
        },
        "id": "ClfDA_GDzC-P",
        "colab_type": "code",
        "colab": {}
      },
      "source": [
        "Domain_extract={\n",
        "    'MANAGEMENT':'Management',                                       'MANAGEMENTS':'Management',  \n",
        "    'C':'C',                                                         'CODEATHON':'Coding',\n",
        "    'CODING':'Coding',                                               'HARDWARES': 'Hardware',\n",
        "    'CLOUD COMPUTING': 'Cloud Computing',                            'NETWORKS':'Networking',\n",
        "    'SECURITY':'Security',                                           'NETWORK':'Networking',\n",
        "    'JAVASCRIPT':'JavaScript',                                       'BLOCKCHAINS': 'Blockchain',\n",
        "    'HARDWARE': 'Hardware',                                          'DEVELOPMENT PROCESS':'Development Processes',\n",
        "    'NETWORKING':'Networking',                                       'DATA ANALYSIS':'Data Science',\n",
        "    'WEB DEVELOPMENT':'Web Development',                             'SOFTWARE ARCHITECTURES':'Software Architecture',\n",
        "    'MACHINE LEARNING':'Machine Learning',                           'MOBILE APPLICATION':'Mobile Applications',\n",
        "    'HIGHER EDUCATION':'Higher Education',                           'ANDROID':'Mobile Applications',\n",
        "    'BLOCKCHAIN': 'Blockchain',                                      'SYSTEM ADMINISTRATIOR':'Other',\n",
        "    'IOT':'IoT',                                                     'BIG DATA':'Data Science',\n",
        "    'C++':'C++',                                                     'DATABASE':'Other',\n",
        "    'JAVA':'Java',                                                   'NETWORK ARCHITECT':'Networking',\n",
        "    'DEVELOPMENT PROCESSES':'Development Processes',                 'WEB DEVELOPER':'Web Development',\n",
        "    'ARTIFICIAL INTELLIGENCE':'Artificial Intelligence',             'INFORMATION SECURITY':'Security',\n",
        "    'DATA SCIENCE':'Data Science',                                   'CYBER SECURITY':'Security',\n",
        "    'PYTHON':'Python',                                               'QUERY':'Other',\n",
        "    'SOFTWARE ARCHITECTURE':'Software Architecture',                 'DATA SCIENTIST':'Data Science',\n",
        "    'FINANCE':'Finance',                                             'DATA MANAGER':'Other',\n",
        "    'OTHER': 'Other',                                                'IT AUDITOR':'Other',\n",
        "    'MOBILE APPLICATIONS':'Mobile Applications',                     'ETHICAL HACKING':'Other',\n",
        "    'SYSTEM ADMINISTRATION':'Other',                                 'ETHICAL HACKER':'Other',\n",
        "    'DATA ENGINEER':'Data Science',                                   'NETWORK ANALYST':'Networking', \n",
        "    'WIRELESS ENGINEER':'Networking',                                'NETWORK MANAGER':'Networking',    \n",
        "    'PROJECT MANAGER':'Development Processes',                       'PRODUCT MANAGER':'Development Processes', \n",
        "    'BUSINESS':'Finance',                                            'INVESTMENT':'Finance',  \n",
        "    'TERTIARY EDUCATION':'Higher Education',                         'MASTERS':'Higher Education',  \n",
        "    'A.I.':'Artificial Intelligence',                                'AI':'Artificial Intelligence',  \n",
        "    'M.L.':'Machine Learning',                                       'ML':'Machine Learning',\n",
        "    'DL' : 'Machine Learning',                                       'DEEP LEARNING':'Machine Learning',\n",
        "    'SDLC':'Development Processes',                                  'AGILE':'Development Processes', \n",
        "    'SCRUM':'Development Processes',                                 'KANBAN':'Development Processes'  \n",
        "}\n"
      ],
      "execution_count": 8,
      "outputs": []
    },
    {
      "cell_type": "code",
      "metadata": {
        "editable": false,
        "run_control": {
          "marked": false
        },
        "id": "0-m7Qri4zC-Z",
        "colab_type": "code",
        "colab": {}
      },
      "source": [
        "Event_extract={\n",
        "    'JOBS':'Jobs',                  'CERTIFICATIONS':'Certifications',\n",
        "    'JOB' : 'Jobs',                 'CERTIFICATION' :'Certifications',\n",
        "    'INTERNSHIP':'Internships',     'COMPETITION':'Competitions',\n",
        "    'INTERNSHIPS':'Internships',    'COMPETITIONS':'Competitions',\n",
        "    'EXPO':'Expos',                 'WORKSHOP':'Workshops',\n",
        "    'EXPOS':'Expos',                'WORKSHOPS':'Workshops',\n",
        "    'TRAINING':'Trainings',         'SEMINAR':'Seminars',\n",
        "    'TRAININGS':'Trainings',        'SEMINARS':'Seminars',\n",
        "    'HACKATHON':'Hackathons',       'FEST':'Fests',\n",
        "    'HACKATHONS':'Hackathons',      'FESTS':'Fests',\n",
        "    'TALK': 'Talks',                'WEBINAR':'Webinars',\n",
        "    'TALKS': 'Talks',               'WEBINARS':'Webinars',\n",
        "    'COURSE':'Courses',             'HACKATHON':'Hackathons',\n",
        "    'COURSES':'Courses',            'HACKATHONs':'Hackathons',\n",
        "    'CODEATHON':'Hackathons',\n",
        "}"
      ],
      "execution_count": 9,
      "outputs": []
    },
    {
      "cell_type": "code",
      "metadata": {
        "run_control": {
          "marked": false
        },
        "id": "0gsFq3eLzC-q",
        "colab_type": "code",
        "colab": {
          "base_uri": "https://localhost:8080/",
          "height": 170
        },
        "outputId": "cba98675-f90c-492a-fcfb-e9ed2a6b2cc2"
      },
      "source": [
        "c=0\n",
        "event_list=[]\n",
        "\n",
        "while(c==0):\n",
        "    try:\n",
        "        event_no = int(input('Enter number of events: '))\n",
        "        c=1\n",
        "    except:\n",
        "        print('ENTER A NUMBER!')\n",
        "        \n",
        "for x in range(1,event_no+1):\n",
        "    event = (input(f'Enter Event No.{x} name: ')).upper()\n",
        "    event_list.append(event)\n",
        "    print(f'>>>{event}')\n",
        "print(event_list)"
      ],
      "execution_count": 10,
      "outputs": [
        {
          "output_type": "stream",
          "text": [
            "Enter number of events: 3\n",
            "Enter Event No.1 name: Get a System Administration certification from PurpleHat today\n",
            ">>>GET A SYSTEM ADMINISTRATION CERTIFICATION FROM PURPLEHAT TODAY\n",
            "Enter Event No.2 name: Lockdown special courses on Ydemi. 22 hours left!\n",
            ">>>LOCKDOWN SPECIAL COURSES ON YDEMI. 22 HOURS LEFT!\n",
            "Enter Event No.3 name: CodeBoost codeathon is live now!\n",
            ">>>CODEBOOST CODEATHON IS LIVE NOW!\n",
            "['GET A SYSTEM ADMINISTRATION CERTIFICATION FROM PURPLEHAT TODAY', 'LOCKDOWN SPECIAL COURSES ON YDEMI. 22 HOURS LEFT!', 'CODEBOOST CODEATHON IS LIVE NOW!']\n"
          ],
          "name": "stdout"
        }
      ]
    },
    {
      "cell_type": "code",
      "metadata": {
        "run_control": {
          "marked": false
        },
        "id": "0ZZcAin6zC-u",
        "colab_type": "code",
        "colab": {}
      },
      "source": [
        "def event_splitter(x):\n",
        "    t = x.split(' ')\n",
        "    return t"
      ],
      "execution_count": 11,
      "outputs": []
    },
    {
      "cell_type": "code",
      "metadata": {
        "run_control": {
          "marked": false
        },
        "id": "PFE59DIpzC-y",
        "colab_type": "code",
        "colab": {}
      },
      "source": [
        "def dom_eve_extractor(t):\n",
        "    flag_domain = 0\n",
        "    flag_event = 0\n",
        "    flag_domain2 = 0\n",
        "    flag_event2 = 0\n",
        "    DE= []\n",
        "    EE= []\n",
        "    for x in t:\n",
        "        try:\n",
        "            DE.append(Domain_extract[x])\n",
        "            flag_domain = 1\n",
        "            flag_domain2 = 1\n",
        "        except:\n",
        "            pass\n",
        "        try:\n",
        "            EE.append(Event_extract[x])\n",
        "            flag_event = 1\n",
        "            flag_event2 = 1\n",
        "        except:\n",
        "            pass\n",
        "    \n",
        "        \n",
        "    if flag_domain == 0:\n",
        "        for x in t:\n",
        "            for y in t:\n",
        "                try:\n",
        "                    dummy = x+' '+y\n",
        "                    DE.append(Domain_extract[dummy])\n",
        "                    flag_domain2 = 1\n",
        "                except:\n",
        "                    pass\n",
        "    \n",
        "    if flag_event == 0:\n",
        "        for x in t:\n",
        "            for y in t:\n",
        "                try:\n",
        "                    dummy = x+' '+y\n",
        "                    EE.append(Event_extract[dummy])\n",
        "                    flag_event2 = 1\n",
        "                except:\n",
        "                    pass   \n",
        "                \n",
        "    if (flag_domain2 == 0):\n",
        "        DE.append('Other') \n",
        "        \n",
        "                \n",
        "    print(f'***Domain: {DE}***')\n",
        "    print(f'***Event: {EE}***')\n",
        "    return DE, EE\n"
      ],
      "execution_count": 12,
      "outputs": []
    },
    {
      "cell_type": "markdown",
      "metadata": {
        "id": "bycxQZBYzC-3",
        "colab_type": "text"
      },
      "source": [
        "## Training with Event 1"
      ]
    },
    {
      "cell_type": "code",
      "metadata": {
        "run_control": {
          "marked": false
        },
        "id": "bbaWyTDlzC-4",
        "colab_type": "code",
        "colab": {}
      },
      "source": [
        "def traineventone(tmp_df,scoreone):\n",
        "    x_train = tmp_df[['Event1','Domain']]\n",
        "    y_train = tmp_df['Name']\n",
        "    req_ENO =[]\n",
        "    req_DNO =[]\n",
        "    clf = tree.DecisionTreeClassifier()\n",
        "\n",
        "    clf.fit(x_train,y_train)\n",
        "    y_pred = clf.predict(x_train)\n",
        "    \n",
        "\n",
        "    def p1():\n",
        "        for x,y in zip(EN,EU):\n",
        "            if y in EE:\n",
        "                req_ENO.append(x)  \n",
        "        for x,y in zip(DN,DU):\n",
        "            if y in DE:\n",
        "                req_DNO.append(x) \n",
        "        def p2(req_ENO,req_DNO):\n",
        "            \n",
        "            if(len(req_ENO)>len(req_DNO)):\n",
        "                diff=len(req_ENO)-len(req_DNO)    \n",
        "                [req_DNO.append(req_DNO[-1]) for i in range(0,diff)]\n",
        "                \n",
        "            else:\n",
        "                diff=len(req_DNO)-len(req_ENO)\n",
        "                [req_ENO.append(req_ENO[-1]) for i in range(0,diff)]\n",
        "                \n",
        "            for e,d in zip(req_ENO,req_DNO):\n",
        "                x_new=[[e,d]]   \n",
        "                tmp = clf.predict_proba(x_new)\n",
        "                for index, prob in enumerate(tmp[0]):\n",
        "                    if prob>=0.5:\n",
        "                        for x,y in zip(pNO,pUQ):\n",
        "                            if x==index+1:\n",
        "                                print(y)\n",
        "                                temp_name_list.append(y)\n",
        "        p2(req_ENO,req_DNO)\n",
        "    p1()"
      ],
      "execution_count": 13,
      "outputs": []
    },
    {
      "cell_type": "markdown",
      "metadata": {
        "id": "_jWvYeZ4zC-9",
        "colab_type": "text"
      },
      "source": [
        "## With Event 2"
      ]
    },
    {
      "cell_type": "code",
      "metadata": {
        "run_control": {
          "marked": false
        },
        "id": "iGRlVHF7zC--",
        "colab_type": "code",
        "colab": {}
      },
      "source": [
        "def traineventtwo(tmp_df,scoretwo):\n",
        "    x_train = df[['Event2','Domain']]\n",
        "    y_train = df['Name']\n",
        "    req_ENO =[]\n",
        "    req_DNO =[]\n",
        "\n",
        "    clf = tree.DecisionTreeClassifier()\n",
        "    clf.fit(x_train,y_train)\n",
        "    \n",
        "    y_pred = clf.predict(x_train)\n",
        "    def d1():\n",
        "        for x,y in zip(EN,EU):\n",
        "            if y in EE:\n",
        "                req_ENO.append(x)\n",
        "        for x,y in zip(DN,DU):\n",
        "            if y in DE:\n",
        "                req_DNO.append(x)\n",
        "                \n",
        "        def d2(req_ENO,req_DNO):\n",
        "            \n",
        "            if(len(req_ENO)>len(req_DNO)):\n",
        "                diff=len(req_ENO)-len(req_DNO)\n",
        "                [req_DNO.append(req_DNO[-1]) for i in range(0,diff)]\n",
        "\n",
        "            else:\n",
        "                diff=len(req_DNO)-len(req_ENO)\n",
        "                [req_ENO.append(req_ENO[-1]) for i in range(0,diff)]\n",
        "\n",
        "            for e,d in zip(req_ENO,req_DNO):\n",
        "                x_new=[[e,d]]\n",
        "                yprob = clf.predict_proba(x_new)\n",
        "                y_pred = clf.predict(x_new)\n",
        "                for indx,prob in enumerate(yprob[0]):\n",
        "                    if prob>=0.5:\n",
        "                        for x,y in zip(pNO,pUQ):\n",
        "                            if x==indx+1:\n",
        "                                print(y)\n",
        "                                temp_name_list.append(y)\n",
        "        d2(req_ENO,req_DNO)\n",
        "    d1()"
      ],
      "execution_count": 14,
      "outputs": []
    },
    {
      "cell_type": "code",
      "metadata": {
        "run_control": {
          "marked": false
        },
        "scrolled": true,
        "id": "gU9p7JqYzC_C",
        "colab_type": "code",
        "colab": {
          "base_uri": "https://localhost:8080/",
          "height": 234
        },
        "outputId": "481555dd-c5f0-4e1b-a15d-f700d45e6600"
      },
      "source": [
        "words2num_flag = 0\n",
        "\n",
        "for x in event_list:\n",
        "    t = event_splitter(x)\n",
        "    DE, EE= dom_eve_extractor(t)\n",
        "    traineventone(tmp_df,scoreone)\n",
        "    traineventtwo(tmp_df,scoretwo)\n",
        "    name_list.append(temp_name_list)\n",
        "    temp_name_list=[]"
      ],
      "execution_count": 15,
      "outputs": [
        {
          "output_type": "stream",
          "text": [
            "***Domain: ['Other']***\n",
            "***Event: ['Certifications']***\n",
            "Todd Smith\n",
            "Kenneth Martinez\n",
            "Mrs. Brenda Scott\n",
            "***Domain: ['Other']***\n",
            "***Event: ['Courses']***\n",
            "Jennifer Merritt\n",
            "Robert Ramirez\n",
            "***Domain: ['Coding']***\n",
            "***Event: ['Hackathons']***\n",
            "Corey Moran\n",
            "Laura Hurst\n"
          ],
          "name": "stdout"
        }
      ]
    },
    {
      "cell_type": "code",
      "metadata": {
        "run_control": {
          "marked": false
        },
        "id": "DgfdxyQBzC_I",
        "colab_type": "code",
        "colab": {
          "base_uri": "https://localhost:8080/",
          "height": 67
        },
        "outputId": "1b166ab1-08f1-4767-9e4d-1800b1fb5bcb"
      },
      "source": [
        "name_list"
      ],
      "execution_count": 16,
      "outputs": [
        {
          "output_type": "execute_result",
          "data": {
            "text/plain": [
              "[['Todd Smith', 'Kenneth Martinez', 'Mrs. Brenda Scott'],\n",
              " ['Jennifer Merritt', 'Robert Ramirez'],\n",
              " ['Corey Moran', 'Laura Hurst']]"
            ]
          },
          "metadata": {
            "tags": []
          },
          "execution_count": 16
        }
      ]
    },
    {
      "cell_type": "code",
      "metadata": {
        "id": "QxLyGUo5zC_N",
        "colab_type": "code",
        "colab": {
          "base_uri": "https://localhost:8080/",
          "height": 67
        },
        "outputId": "64f4fcc2-95d5-4d99-9f33-b58df4a6c228"
      },
      "source": [
        "event_list"
      ],
      "execution_count": 17,
      "outputs": [
        {
          "output_type": "execute_result",
          "data": {
            "text/plain": [
              "['GET A SYSTEM ADMINISTRATION CERTIFICATION FROM PURPLEHAT TODAY',\n",
              " 'LOCKDOWN SPECIAL COURSES ON YDEMI. 22 HOURS LEFT!',\n",
              " 'CODEBOOST CODEATHON IS LIVE NOW!']"
            ]
          },
          "metadata": {
            "tags": []
          },
          "execution_count": 17
        }
      ]
    },
    {
      "cell_type": "code",
      "metadata": {
        "id": "HXv4oMBEzC_R",
        "colab_type": "code",
        "colab": {}
      },
      "source": [
        "dict1 = {}\n",
        "dict2 = {}"
      ],
      "execution_count": 18,
      "outputs": []
    },
    {
      "cell_type": "code",
      "metadata": {
        "id": "HLws3_G-zC_X",
        "colab_type": "code",
        "colab": {}
      },
      "source": [
        "for totalppl,event in zip(name_list,event_list):\n",
        "    for person in totalppl:\n",
        "        if person not in dict1:\n",
        "            dict1[person]=event\n",
        "        elif person in dict1:\n",
        "            dict2[person]=event"
      ],
      "execution_count": 19,
      "outputs": []
    },
    {
      "cell_type": "code",
      "metadata": {
        "id": "HP5RrKDOzC_c",
        "colab_type": "code",
        "colab": {
          "base_uri": "https://localhost:8080/",
          "height": 134
        },
        "outputId": "a802b79e-f4d8-4167-b409-adc6d5e125fd"
      },
      "source": [
        "dict1"
      ],
      "execution_count": 20,
      "outputs": [
        {
          "output_type": "execute_result",
          "data": {
            "text/plain": [
              "{'Corey Moran': 'CODEBOOST CODEATHON IS LIVE NOW!',\n",
              " 'Jennifer Merritt': 'LOCKDOWN SPECIAL COURSES ON YDEMI. 22 HOURS LEFT!',\n",
              " 'Kenneth Martinez': 'GET A SYSTEM ADMINISTRATION CERTIFICATION FROM PURPLEHAT TODAY',\n",
              " 'Laura Hurst': 'CODEBOOST CODEATHON IS LIVE NOW!',\n",
              " 'Mrs. Brenda Scott': 'GET A SYSTEM ADMINISTRATION CERTIFICATION FROM PURPLEHAT TODAY',\n",
              " 'Robert Ramirez': 'LOCKDOWN SPECIAL COURSES ON YDEMI. 22 HOURS LEFT!',\n",
              " 'Todd Smith': 'GET A SYSTEM ADMINISTRATION CERTIFICATION FROM PURPLEHAT TODAY'}"
            ]
          },
          "metadata": {
            "tags": []
          },
          "execution_count": 20
        }
      ]
    },
    {
      "cell_type": "code",
      "metadata": {
        "id": "1DmHcSIBzC_j",
        "colab_type": "code",
        "colab": {
          "base_uri": "https://localhost:8080/",
          "height": 33
        },
        "outputId": "08050653-7673-4252-847d-38cb6015b564"
      },
      "source": [
        "dict2"
      ],
      "execution_count": 21,
      "outputs": [
        {
          "output_type": "execute_result",
          "data": {
            "text/plain": [
              "{}"
            ]
          },
          "metadata": {
            "tags": []
          },
          "execution_count": 21
        }
      ]
    },
    {
      "cell_type": "code",
      "metadata": {
        "id": "VIgv0RBGzC_s",
        "colab_type": "code",
        "colab": {
          "base_uri": "https://localhost:8080/",
          "height": 256
        },
        "outputId": "19df7be6-75e1-4440-fa0d-15bb1f94703d"
      },
      "source": [
        "dfx = DataFrame(list(dict1.items()),columns = ['Employee Name','Events']) \n",
        "dfx"
      ],
      "execution_count": 22,
      "outputs": [
        {
          "output_type": "execute_result",
          "data": {
            "text/html": [
              "<div>\n",
              "<style scoped>\n",
              "    .dataframe tbody tr th:only-of-type {\n",
              "        vertical-align: middle;\n",
              "    }\n",
              "\n",
              "    .dataframe tbody tr th {\n",
              "        vertical-align: top;\n",
              "    }\n",
              "\n",
              "    .dataframe thead th {\n",
              "        text-align: right;\n",
              "    }\n",
              "</style>\n",
              "<table border=\"1\" class=\"dataframe\">\n",
              "  <thead>\n",
              "    <tr style=\"text-align: right;\">\n",
              "      <th></th>\n",
              "      <th>Employee Name</th>\n",
              "      <th>Events</th>\n",
              "    </tr>\n",
              "  </thead>\n",
              "  <tbody>\n",
              "    <tr>\n",
              "      <th>0</th>\n",
              "      <td>Todd Smith</td>\n",
              "      <td>GET A SYSTEM ADMINISTRATION CERTIFICATION FROM...</td>\n",
              "    </tr>\n",
              "    <tr>\n",
              "      <th>1</th>\n",
              "      <td>Kenneth Martinez</td>\n",
              "      <td>GET A SYSTEM ADMINISTRATION CERTIFICATION FROM...</td>\n",
              "    </tr>\n",
              "    <tr>\n",
              "      <th>2</th>\n",
              "      <td>Mrs. Brenda Scott</td>\n",
              "      <td>GET A SYSTEM ADMINISTRATION CERTIFICATION FROM...</td>\n",
              "    </tr>\n",
              "    <tr>\n",
              "      <th>3</th>\n",
              "      <td>Jennifer Merritt</td>\n",
              "      <td>LOCKDOWN SPECIAL COURSES ON YDEMI. 22 HOURS LEFT!</td>\n",
              "    </tr>\n",
              "    <tr>\n",
              "      <th>4</th>\n",
              "      <td>Robert Ramirez</td>\n",
              "      <td>LOCKDOWN SPECIAL COURSES ON YDEMI. 22 HOURS LEFT!</td>\n",
              "    </tr>\n",
              "    <tr>\n",
              "      <th>5</th>\n",
              "      <td>Corey Moran</td>\n",
              "      <td>CODEBOOST CODEATHON IS LIVE NOW!</td>\n",
              "    </tr>\n",
              "    <tr>\n",
              "      <th>6</th>\n",
              "      <td>Laura Hurst</td>\n",
              "      <td>CODEBOOST CODEATHON IS LIVE NOW!</td>\n",
              "    </tr>\n",
              "  </tbody>\n",
              "</table>\n",
              "</div>"
            ],
            "text/plain": [
              "       Employee Name                                             Events\n",
              "0         Todd Smith  GET A SYSTEM ADMINISTRATION CERTIFICATION FROM...\n",
              "1   Kenneth Martinez  GET A SYSTEM ADMINISTRATION CERTIFICATION FROM...\n",
              "2  Mrs. Brenda Scott  GET A SYSTEM ADMINISTRATION CERTIFICATION FROM...\n",
              "3   Jennifer Merritt  LOCKDOWN SPECIAL COURSES ON YDEMI. 22 HOURS LEFT!\n",
              "4     Robert Ramirez  LOCKDOWN SPECIAL COURSES ON YDEMI. 22 HOURS LEFT!\n",
              "5        Corey Moran                   CODEBOOST CODEATHON IS LIVE NOW!\n",
              "6        Laura Hurst                   CODEBOOST CODEATHON IS LIVE NOW!"
            ]
          },
          "metadata": {
            "tags": []
          },
          "execution_count": 22
        }
      ]
    },
    {
      "cell_type": "code",
      "metadata": {
        "id": "aC1icRgrzC_w",
        "colab_type": "code",
        "colab": {
          "base_uri": "https://localhost:8080/",
          "height": 256
        },
        "outputId": "f37cbfca-3638-4c33-9711-9468f8e4f36a"
      },
      "source": [
        "if bool(dict2):\n",
        "    dfy = DataFrame(list(dict2.items()),columns = ['Employee Name','Events'])\n",
        "    dfx = dfx.append(dfy).reset_index()\n",
        "    dfx.drop(columns='index')\n",
        "dfx"
      ],
      "execution_count": 23,
      "outputs": [
        {
          "output_type": "execute_result",
          "data": {
            "text/html": [
              "<div>\n",
              "<style scoped>\n",
              "    .dataframe tbody tr th:only-of-type {\n",
              "        vertical-align: middle;\n",
              "    }\n",
              "\n",
              "    .dataframe tbody tr th {\n",
              "        vertical-align: top;\n",
              "    }\n",
              "\n",
              "    .dataframe thead th {\n",
              "        text-align: right;\n",
              "    }\n",
              "</style>\n",
              "<table border=\"1\" class=\"dataframe\">\n",
              "  <thead>\n",
              "    <tr style=\"text-align: right;\">\n",
              "      <th></th>\n",
              "      <th>Employee Name</th>\n",
              "      <th>Events</th>\n",
              "    </tr>\n",
              "  </thead>\n",
              "  <tbody>\n",
              "    <tr>\n",
              "      <th>0</th>\n",
              "      <td>Todd Smith</td>\n",
              "      <td>GET A SYSTEM ADMINISTRATION CERTIFICATION FROM...</td>\n",
              "    </tr>\n",
              "    <tr>\n",
              "      <th>1</th>\n",
              "      <td>Kenneth Martinez</td>\n",
              "      <td>GET A SYSTEM ADMINISTRATION CERTIFICATION FROM...</td>\n",
              "    </tr>\n",
              "    <tr>\n",
              "      <th>2</th>\n",
              "      <td>Mrs. Brenda Scott</td>\n",
              "      <td>GET A SYSTEM ADMINISTRATION CERTIFICATION FROM...</td>\n",
              "    </tr>\n",
              "    <tr>\n",
              "      <th>3</th>\n",
              "      <td>Jennifer Merritt</td>\n",
              "      <td>LOCKDOWN SPECIAL COURSES ON YDEMI. 22 HOURS LEFT!</td>\n",
              "    </tr>\n",
              "    <tr>\n",
              "      <th>4</th>\n",
              "      <td>Robert Ramirez</td>\n",
              "      <td>LOCKDOWN SPECIAL COURSES ON YDEMI. 22 HOURS LEFT!</td>\n",
              "    </tr>\n",
              "    <tr>\n",
              "      <th>5</th>\n",
              "      <td>Corey Moran</td>\n",
              "      <td>CODEBOOST CODEATHON IS LIVE NOW!</td>\n",
              "    </tr>\n",
              "    <tr>\n",
              "      <th>6</th>\n",
              "      <td>Laura Hurst</td>\n",
              "      <td>CODEBOOST CODEATHON IS LIVE NOW!</td>\n",
              "    </tr>\n",
              "  </tbody>\n",
              "</table>\n",
              "</div>"
            ],
            "text/plain": [
              "       Employee Name                                             Events\n",
              "0         Todd Smith  GET A SYSTEM ADMINISTRATION CERTIFICATION FROM...\n",
              "1   Kenneth Martinez  GET A SYSTEM ADMINISTRATION CERTIFICATION FROM...\n",
              "2  Mrs. Brenda Scott  GET A SYSTEM ADMINISTRATION CERTIFICATION FROM...\n",
              "3   Jennifer Merritt  LOCKDOWN SPECIAL COURSES ON YDEMI. 22 HOURS LEFT!\n",
              "4     Robert Ramirez  LOCKDOWN SPECIAL COURSES ON YDEMI. 22 HOURS LEFT!\n",
              "5        Corey Moran                   CODEBOOST CODEATHON IS LIVE NOW!\n",
              "6        Laura Hurst                   CODEBOOST CODEATHON IS LIVE NOW!"
            ]
          },
          "metadata": {
            "tags": []
          },
          "execution_count": 23
        }
      ]
    },
    {
      "cell_type": "code",
      "metadata": {
        "id": "cPBMixO9zC_0",
        "colab_type": "code",
        "colab": {}
      },
      "source": [
        "dfx.to_excel('Events.xlsx', index = None, header=True)"
      ],
      "execution_count": 24,
      "outputs": []
    },
    {
      "cell_type": "code",
      "metadata": {
        "id": "gvDfmWIjzC_5",
        "colab_type": "code",
        "colab": {}
      },
      "source": [
        ""
      ],
      "execution_count": 24,
      "outputs": []
    }
  ]
}